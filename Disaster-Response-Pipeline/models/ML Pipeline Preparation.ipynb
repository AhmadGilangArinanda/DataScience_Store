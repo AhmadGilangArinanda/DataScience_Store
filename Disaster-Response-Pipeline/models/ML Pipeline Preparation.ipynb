{
 "cells": [
  {
   "cell_type": "markdown",
   "metadata": {},
   "source": [
    "# ML Pipeline Preparation\n",
    "Follow the instructions below to help you create your ML pipeline.\n",
    "### 1. Import libraries and load data from database.\n",
    "- Import Python libraries\n",
    "- Load dataset from database with [`read_sql_table`](https://pandas.pydata.org/pandas-docs/stable/generated/pandas.read_sql_table.html)\n",
    "- Define feature and target variables X and Y"
   ]
  },
  {
   "cell_type": "code",
   "execution_count": 1,
   "metadata": {
    "scrolled": true
   },
   "outputs": [
    {
     "name": "stdout",
     "output_type": "stream",
     "text": [
      "[nltk_data] Downloading package punkt to /root/nltk_data...\n",
      "[nltk_data]   Unzipping tokenizers/punkt.zip.\n",
      "[nltk_data] Downloading package wordnet to /root/nltk_data...\n",
      "[nltk_data] Downloading package stopwords to /root/nltk_data...\n",
      "[nltk_data]   Unzipping corpora/stopwords.zip.\n",
      "[nltk_data] Downloading package averaged_perceptron_tagger to\n",
      "[nltk_data]     /root/nltk_data...\n",
      "[nltk_data]   Unzipping taggers/averaged_perceptron_tagger.zip.\n"
     ]
    }
   ],
   "source": [
    "# import libraries\n",
    "import nltk\n",
    "nltk.download('punkt')\n",
    "nltk.download('wordnet')\n",
    "nltk.download('stopwords')\n",
    "nltk.download('averaged_perceptron_tagger')\n",
    "\n",
    "from nltk.corpus import stopwords\n",
    "\n",
    "# import libraries\n",
    "import pandas as pd\n",
    "import numpy as np\n",
    "pd.set_option('display.max_columns', 500)\n",
    "\n",
    "import sys\n",
    "import re\n",
    "from sqlalchemy import create_engine\n",
    "import pickle\n",
    "\n",
    "# import relevant functions/modules from the sklearn\n",
    "from sklearn.pipeline import Pipeline\n",
    "from sklearn.model_selection import train_test_split\n",
    "from sklearn.metrics import classification_report\n",
    "from sklearn.multiclass import OneVsRestClassifier\n",
    "from sklearn.svm import LinearSVC\n",
    "\n",
    "from sklearn.model_selection import GridSearchCV\n",
    "from sklearn.feature_extraction.text import TfidfTransformer, CountVectorizer\n",
    "from sklearn.multioutput import MultiOutputClassifier"
   ]
  },
  {
   "cell_type": "code",
   "execution_count": 2,
   "metadata": {},
   "outputs": [],
   "source": [
    "# load data from database\n",
    "database_filepath = 'DisasterResponse.db'\n",
    "engine = create_engine('sqlite:///'+ database_filepath)\n",
    "df = pd.read_sql_table('DisasterResponse', engine)\n",
    "\n",
    "# Remove child alone as it has all zeros only\n",
    "df = df.drop(['child_alone'],axis=1)\n",
    "\n",
    "# Given value 2 in the related field are neglible so it could be error. Replacing 2 with 1 to consider it a valid response\n",
    "# Alternatively, we could have assumed it to be 0 also. In the absence of information I have gone with majority class\n",
    "df['related']=df['related'].map(lambda x: 1 if x == 2 else x)\n",
    "\n",
    "X = df.message\n",
    "y = df[df.columns[4:]]\n",
    "category_names = y.columns"
   ]
  },
  {
   "cell_type": "markdown",
   "metadata": {},
   "source": [
    "### 2. Write a tokenization function to process your text data"
   ]
  },
  {
   "cell_type": "code",
   "execution_count": 3,
   "metadata": {},
   "outputs": [],
   "source": [
    "def tokenize(text,url_place_holder_string=\"urlplaceholder\"):\n",
    "    \"\"\"\n",
    "    tokenize\n",
    "    Tokenize the text function\n",
    "    \n",
    "    Input:\n",
    "    text -> Text message which needs to be tokenized\n",
    "    \n",
    "    Returns:\n",
    "    clean_tokens -> List of tokens extracted from the provided text\n",
    "    \"\"\" \n",
    "    # Replace all urls with a urlplaceholder string\n",
    "    url_regex = 'http[s]?://(?:[a-zA-Z]|[0-9]|[$-_@.&+]|[!*\\(\\),]|(?:%[0-9a-fA-F][0-9a-fA-F]))+'\n",
    "    \n",
    "    # Extract all the urls from the provided text \n",
    "    detected_urls = re.findall(url_regex, text)\n",
    "    \n",
    "    # Replace url with a url placeholder string\n",
    "    for detected_url in detected_urls:\n",
    "        text = text.replace(detected_url, url_place_holder_string)\n",
    "\n",
    "    # Extract the word tokens from the provided text\n",
    "    tokens = nltk.word_tokenize(text)\n",
    "    \n",
    "    # Remove stop words\n",
    "    stop_words = stopwords.words(\"english\")\n",
    "    tokens = [tok for tok in tokens if tok not in stop_words]\n",
    "    \n",
    "    #Lemmanitizer to remove inflectional and derivationally related forms of a word\n",
    "    lemmatizer = nltk.WordNetLemmatizer()\n",
    "\n",
    "    # List of clean tokens\n",
    "    clean_tokens = [lemmatizer.lemmatize(w).lower().strip() for w in tokens]\n",
    "    return clean_tokens"
   ]
  },
  {
   "cell_type": "markdown",
   "metadata": {},
   "source": [
    "### 3. Build a machine learning pipeline\n",
    "This machine pipeline should take in the `message` column as input and output classification results on the other 36 categories in the dataset. You may find the [MultiOutputClassifier](http://scikit-learn.org/stable/modules/generated/sklearn.multioutput.MultiOutputClassifier.html) helpful for predicting multiple target variables."
   ]
  },
  {
   "cell_type": "code",
   "execution_count": 4,
   "metadata": {},
   "outputs": [],
   "source": [
    "pipeline = Pipeline([\n",
    "    ('vect', CountVectorizer(tokenizer=tokenize)),\n",
    "    ('tfidf', TfidfTransformer()),\n",
    "    ('clf', MultiOutputClassifier(OneVsRestClassifier(LinearSVC())))])"
   ]
  },
  {
   "cell_type": "markdown",
   "metadata": {},
   "source": [
    "### 4. Train pipeline\n",
    "- Split data into train and test sets\n",
    "- Train pipeline"
   ]
  },
  {
   "cell_type": "code",
   "execution_count": 7,
   "metadata": {},
   "outputs": [
    {
     "data": {
      "text/plain": [
       "Pipeline(memory=None,\n",
       "     steps=[('vect', CountVectorizer(analyzer='word', binary=False, decode_error='strict',\n",
       "        dtype=<class 'numpy.int64'>, encoding='utf-8', input='content',\n",
       "        lowercase=True, max_df=1.0, max_features=None, min_df=1,\n",
       "        ngram_range=(1, 1), preprocessor=None, stop_words=None,\n",
       "        strip...ty='l2', random_state=None, tol=0.0001,\n",
       "     verbose=0),\n",
       "          n_jobs=1),\n",
       "           n_jobs=1))])"
      ]
     },
     "execution_count": 7,
     "metadata": {},
     "output_type": "execute_result"
    }
   ],
   "source": [
    "X_train, X_test, y_train, y_test = train_test_split(X, y, test_size=0.2)\n",
    "pipeline.fit(X_train, y_train)"
   ]
  },
  {
   "cell_type": "markdown",
   "metadata": {},
   "source": [
    "### 5. Test your model\n",
    "Report the f1 score, precision and recall for each output category of the dataset. You can do this by iterating through the columns and calling sklearn's `classification_report` on each."
   ]
  },
  {
   "cell_type": "code",
   "execution_count": 10,
   "metadata": {},
   "outputs": [
    {
     "name": "stdout",
     "output_type": "stream",
     "text": [
      "                        precision    recall  f1-score   support\n",
      "\n",
      "               related       0.86      0.91      0.89      3997\n",
      "               request       0.75      0.59      0.66       875\n",
      "                 offer       0.00      0.00      0.00        26\n",
      "           aid_related       0.69      0.71      0.70      2098\n",
      "          medical_help       0.58      0.31      0.41       429\n",
      "      medical_products       0.62      0.26      0.36       292\n",
      "     search_and_rescue       0.65      0.17      0.27       129\n",
      "              security       0.20      0.01      0.02        81\n",
      "              military       0.60      0.35      0.44       168\n",
      "                 water       0.70      0.55      0.62       303\n",
      "                  food       0.78      0.68      0.73       548\n",
      "               shelter       0.71      0.51      0.59       436\n",
      "              clothing       0.77      0.42      0.54        79\n",
      "                 money       0.49      0.20      0.28       125\n",
      "        missing_people       0.67      0.18      0.28        56\n",
      "              refugees       0.68      0.33      0.44       160\n",
      "                 death       0.73      0.50      0.60       238\n",
      "             other_aid       0.41      0.19      0.26       664\n",
      "infrastructure_related       0.30      0.08      0.13       342\n",
      "             transport       0.70      0.22      0.33       234\n",
      "             buildings       0.65      0.34      0.45       254\n",
      "           electricity       0.57      0.22      0.32       114\n",
      "                 tools       0.00      0.00      0.00        34\n",
      "             hospitals       0.57      0.06      0.11        67\n",
      "                 shops       0.00      0.00      0.00        15\n",
      "           aid_centers       0.50      0.02      0.03        63\n",
      "  other_infrastructure       0.37      0.07      0.12       221\n",
      "       weather_related       0.81      0.70      0.75      1460\n",
      "                floods       0.88      0.57      0.69       421\n",
      "                 storm       0.77      0.57      0.65       493\n",
      "                  fire       0.76      0.28      0.41        57\n",
      "            earthquake       0.86      0.74      0.79       491\n",
      "                  cold       0.65      0.31      0.42       113\n",
      "         other_weather       0.59      0.18      0.28       267\n",
      "         direct_report       0.66      0.51      0.57       994\n",
      "\n",
      "           avg / total       0.72      0.60      0.64     16344\n",
      "\n",
      "Accuracy: 0.9474338018960444\n"
     ]
    },
    {
     "name": "stderr",
     "output_type": "stream",
     "text": [
      "/opt/conda/lib/python3.6/site-packages/sklearn/metrics/classification.py:1135: UndefinedMetricWarning: Precision and F-score are ill-defined and being set to 0.0 in labels with no predicted samples.\n",
      "  'precision', 'predicted', average, warn_for)\n"
     ]
    }
   ],
   "source": [
    "y_pred = pipeline.predict(X_test) # predict\n",
    "class_report = classification_report(y_test, y_pred, target_names=category_names) # print classification report\n",
    "print(class_report)\n",
    "print('Accuracy: {}'.format(np.mean(y_test.values == y_pred))) # print accuracy score"
   ]
  },
  {
   "cell_type": "markdown",
   "metadata": {},
   "source": [
    "### 6. Improve your model\n",
    "Use grid search to find better parameters. "
   ]
  },
  {
   "cell_type": "code",
   "execution_count": 13,
   "metadata": {},
   "outputs": [
    {
     "name": "stdout",
     "output_type": "stream",
     "text": [
      "Fitting 3 folds for each of 4 candidates, totalling 12 fits\n",
      "[CV] vect__max_df=0.75, vect__ngram_range=(1, 1) .....................\n",
      "[CV]  vect__max_df=0.75, vect__ngram_range=(1, 1), score=0.27606923186954657, total=  17.6s\n",
      "[CV] vect__max_df=0.75, vect__ngram_range=(1, 1) .....................\n"
     ]
    },
    {
     "name": "stderr",
     "output_type": "stream",
     "text": [
      "[Parallel(n_jobs=1)]: Done   1 out of   1 | elapsed:   27.8s remaining:    0.0s\n"
     ]
    },
    {
     "name": "stdout",
     "output_type": "stream",
     "text": [
      "[CV]  vect__max_df=0.75, vect__ngram_range=(1, 1), score=0.28279216135030755, total=  17.5s\n",
      "[CV] vect__max_df=0.75, vect__ngram_range=(1, 1) .....................\n"
     ]
    },
    {
     "name": "stderr",
     "output_type": "stream",
     "text": [
      "[Parallel(n_jobs=1)]: Done   2 out of   2 | elapsed:   55.5s remaining:    0.0s\n"
     ]
    },
    {
     "name": "stdout",
     "output_type": "stream",
     "text": [
      "[CV]  vect__max_df=0.75, vect__ngram_range=(1, 1), score=0.27968526466380544, total=  17.5s\n",
      "[CV] vect__max_df=0.75, vect__ngram_range=(1, 2) .....................\n",
      "[CV]  vect__max_df=0.75, vect__ngram_range=(1, 2), score=0.28221999713917895, total=  21.7s\n",
      "[CV] vect__max_df=0.75, vect__ngram_range=(1, 2) .....................\n",
      "[CV]  vect__max_df=0.75, vect__ngram_range=(1, 2), score=0.28365040766700045, total=  21.7s\n",
      "[CV] vect__max_df=0.75, vect__ngram_range=(1, 2) .....................\n",
      "[CV]  vect__max_df=0.75, vect__ngram_range=(1, 2), score=0.28240343347639485, total=  21.7s\n",
      "[CV] vect__max_df=1.0, vect__ngram_range=(1, 1) ......................\n",
      "[CV]  vect__max_df=1.0, vect__ngram_range=(1, 1), score=0.2759261908167644, total=  17.7s\n",
      "[CV] vect__max_df=1.0, vect__ngram_range=(1, 1) ......................\n",
      "[CV]  vect__max_df=1.0, vect__ngram_range=(1, 1), score=0.28365040766700045, total=  17.6s\n",
      "[CV] vect__max_df=1.0, vect__ngram_range=(1, 1) ......................\n",
      "[CV]  vect__max_df=1.0, vect__ngram_range=(1, 1), score=0.2782546494992847, total=  17.6s\n",
      "[CV] vect__max_df=1.0, vect__ngram_range=(1, 2) ......................\n",
      "[CV]  vect__max_df=1.0, vect__ngram_range=(1, 2), score=0.28164783292805035, total=  21.8s\n",
      "[CV] vect__max_df=1.0, vect__ngram_range=(1, 2) ......................\n",
      "[CV]  vect__max_df=1.0, vect__ngram_range=(1, 2), score=0.28307824345587185, total=  22.2s\n",
      "[CV] vect__max_df=1.0, vect__ngram_range=(1, 2) ......................\n",
      "[CV]  vect__max_df=1.0, vect__ngram_range=(1, 2), score=0.28283261802575105, total=  22.0s\n"
     ]
    },
    {
     "name": "stderr",
     "output_type": "stream",
     "text": [
      "[Parallel(n_jobs=1)]: Done  12 out of  12 | elapsed:  6.0min finished\n"
     ]
    },
    {
     "data": {
      "text/plain": [
       "GridSearchCV(cv=3, error_score='raise',\n",
       "       estimator=Pipeline(memory=None,\n",
       "     steps=[('vect', CountVectorizer(analyzer='word', binary=False, decode_error='strict',\n",
       "        dtype=<class 'numpy.int64'>, encoding='utf-8', input='content',\n",
       "        lowercase=True, max_df=1.0, max_features=None, min_df=1,\n",
       "        ngram_range=(1, 1), preprocessor=None, stop_words=None,\n",
       "        strip...ty='l2', random_state=None, tol=0.0001,\n",
       "     verbose=0),\n",
       "          n_jobs=1),\n",
       "           n_jobs=1))]),\n",
       "       fit_params=None, iid=True, n_jobs=1,\n",
       "       param_grid={'vect__ngram_range': ((1, 1), (1, 2)), 'vect__max_df': (0.75, 1.0)},\n",
       "       pre_dispatch='2*n_jobs', refit=True, return_train_score='warn',\n",
       "       scoring=None, verbose=3)"
      ]
     },
     "execution_count": 13,
     "metadata": {},
     "output_type": "execute_result"
    }
   ],
   "source": [
    "#model parameters for GridSearchCV\n",
    "parameters = {'vect__ngram_range': ((1, 1), (1, 2)),\n",
    "                  'vect__max_df': (0.75, 1.0)\n",
    "                  }\n",
    "\n",
    "cv = GridSearchCV(estimator=pipeline,\n",
    "            param_grid=parameters,\n",
    "            verbose=3,\n",
    "            cv=3)\n",
    "cv.fit(X_train, y_train)"
   ]
  },
  {
   "cell_type": "code",
   "execution_count": 15,
   "metadata": {},
   "outputs": [],
   "source": [
    "# Get the prediction values from the grid search cross validator\n",
    "y_test = cv.predict(X_test)\n",
    "y_train = cv.predict(X_train)"
   ]
  },
  {
   "cell_type": "markdown",
   "metadata": {},
   "source": [
    "### 7. Test your model\n",
    "Show the accuracy, precision, and recall of the tuned model.  \n",
    "\n",
    "Since this project focuses on code quality, process, and  pipelines, there is no minimum performance metric needed to pass. However, make sure to fine tune your models for accuracy, precision and recall to make your project stand out - especially for your portfolio!"
   ]
  },
  {
   "cell_type": "code",
   "execution_count": 21,
   "metadata": {},
   "outputs": [
    {
     "name": "stdout",
     "output_type": "stream",
     "text": [
      "                        precision    recall  f1-score   support\n",
      "\n",
      "               related       0.98      0.94      0.96      4397\n",
      "               request       0.89      0.80      0.84       764\n",
      "                 offer       0.00      0.00      0.00         0\n",
      "           aid_related       0.92      0.84      0.88      2361\n",
      "          medical_help       0.84      0.75      0.79       260\n",
      "      medical_products       0.72      0.74      0.73       117\n",
      "     search_and_rescue       0.82      0.80      0.81        35\n",
      "              security       0.60      1.00      0.75         3\n",
      "              military       0.86      0.82      0.84       101\n",
      "                 water       0.90      0.74      0.82       288\n",
      "                  food       0.95      0.85      0.90       535\n",
      "               shelter       0.92      0.80      0.85       359\n",
      "              clothing       0.91      0.89      0.90        44\n",
      "                 money       0.82      0.91      0.87        46\n",
      "        missing_people       0.80      1.00      0.89        12\n",
      "              refugees       0.75      0.92      0.83        63\n",
      "                 death       0.88      0.89      0.89       163\n",
      "             other_aid       0.65      0.58      0.61       337\n",
      "infrastructure_related       0.51      0.66      0.57        71\n",
      "             transport       0.89      0.76      0.82        86\n",
      "             buildings       0.85      0.78      0.81       147\n",
      "           electricity       0.91      0.83      0.87        48\n",
      "                 tools       0.00      0.00      0.00         1\n",
      "             hospitals       0.57      0.67      0.62         6\n",
      "                 shops       0.00      0.00      0.00         0\n",
      "           aid_centers       0.00      0.00      0.00         2\n",
      "  other_infrastructure       0.53      0.82      0.65        28\n",
      "       weather_related       0.95      0.87      0.90      1366\n",
      "                floods       0.94      0.91      0.92       285\n",
      "                 storm       0.93      0.82      0.87       414\n",
      "                  fire       0.76      0.84      0.80        19\n",
      "            earthquake       0.97      0.94      0.96       438\n",
      "                  cold       0.83      0.87      0.85        52\n",
      "         other_weather       0.71      0.85      0.77        68\n",
      "         direct_report       0.83      0.78      0.81       812\n",
      "\n",
      "           avg / total       0.92      0.86      0.89     13728\n",
      "\n"
     ]
    },
    {
     "name": "stderr",
     "output_type": "stream",
     "text": [
      "/opt/conda/lib/python3.6/site-packages/sklearn/metrics/classification.py:1135: UndefinedMetricWarning: Precision and F-score are ill-defined and being set to 0.0 in labels with no predicted samples.\n",
      "  'precision', 'predicted', average, warn_for)\n",
      "/opt/conda/lib/python3.6/site-packages/sklearn/metrics/classification.py:1137: UndefinedMetricWarning: Recall and F-score are ill-defined and being set to 0.0 in labels with no true samples.\n",
      "  'recall', 'true', average, warn_for)\n"
     ]
    }
   ],
   "source": [
    "class_report = classification_report(y_test, y_pred, target_names=category_names) # print classification report\n",
    "print(class_report)\n",
    "\n",
    "#print('Accuracy: {}'.format(np.mean(y_test.values == y_pred))) # print accuracy score"
   ]
  },
  {
   "cell_type": "markdown",
   "metadata": {},
   "source": [
    "### 8. Try improving your model further. Here are a few ideas:\n",
    "* try other machine learning algorithms\n",
    "* add other features besides the TF-IDF"
   ]
  },
  {
   "cell_type": "code",
   "execution_count": null,
   "metadata": {},
   "outputs": [],
   "source": []
  },
  {
   "cell_type": "markdown",
   "metadata": {},
   "source": [
    "### 9. Export your model as a pickle file"
   ]
  },
  {
   "cell_type": "code",
   "execution_count": 22,
   "metadata": {},
   "outputs": [],
   "source": [
    "m = pickle.dumps('classifier.pkl')"
   ]
  },
  {
   "cell_type": "markdown",
   "metadata": {},
   "source": [
    "### 10. Use this notebook to complete `train.py`\n",
    "Use the template file attached in the Resources folder to write a script that runs the steps above to create a database and export a model based on a new dataset specified by the user."
   ]
  },
  {
   "cell_type": "code",
   "execution_count": null,
   "metadata": {},
   "outputs": [],
   "source": []
  }
 ],
 "metadata": {
  "kernelspec": {
   "display_name": "Python 3 (ipykernel)",
   "language": "python",
   "name": "python3"
  },
  "language_info": {
   "codemirror_mode": {
    "name": "ipython",
    "version": 3
   },
   "file_extension": ".py",
   "mimetype": "text/x-python",
   "name": "python",
   "nbconvert_exporter": "python",
   "pygments_lexer": "ipython3",
   "version": "3.10.2"
  }
 },
 "nbformat": 4,
 "nbformat_minor": 2
}
