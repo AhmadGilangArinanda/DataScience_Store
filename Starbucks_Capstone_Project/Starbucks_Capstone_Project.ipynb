{
 "cells": [
  {
   "cell_type": "markdown",
   "id": "2e1b7420",
   "metadata": {},
   "source": [
    "# Starbucks Capstone Challenge\n",
    "\n",
    "### Introduction\n",
    "\n",
    "This data set contains simulated data that mimics customer behavior on the Starbucks rewards mobile app. Once every few days, Starbucks sends out an offer to users of the mobile app. An offer can be merely an advertisement for a drink or an actual offer such as a discount or BOGO (buy one get one free). Some users might not receive any offer during certain weeks. \n",
    "\n",
    "Not all users receive the same offer, and that is the challenge to solve with this data set.\n",
    "\n",
    "Your task is to combine transaction, demographic and offer data to determine which demographic groups respond best to which offer type. This data set is a simplified version of the real Starbucks app because the underlying simulator only has one product whereas Starbucks actually sells dozens of products.\n",
    "\n",
    "Every offer has a validity period before the offer expires. As an example, a BOGO offer might be valid for only 5 days. You'll see in the data set that informational offers have a validity period even though these ads are merely providing information about a product; for example, if an informational offer has 7 days of validity, you can assume the customer is feeling the influence of the offer for 7 days after receiving the advertisement.\n",
    "\n",
    "You'll be given transactional data showing user purchases made on the app including the timestamp of purchase and the amount of money spent on a purchase. This transactional data also has a record for each offer that a user receives as well as a record for when a user actually views the offer. There are also records for when a user completes an offer. \n",
    "\n",
    "Keep in mind as well that someone using the app might make a purchase through the app without having received an offer or seen an offer.\n",
    "\n",
    "### Example\n",
    "\n",
    "To give an example, a user could receive a discount offer buy 10 dollars get 2 off on Monday. The offer is valid for 10 days from receipt. If the customer accumulates at least 10 dollars in purchases during the validity period, the customer completes the offer.\n",
    "\n",
    "However, there are a few things to watch out for in this data set. Customers do not opt into the offers that they receive; in other words, a user can receive an offer, never actually view the offer, and still complete the offer. For example, a user might receive the \"buy 10 dollars get 2 dollars off offer\", but the user never opens the offer during the 10 day validity period. The customer spends 15 dollars during those ten days. There will be an offer completion record in the data set; however, the customer was not influenced by the offer because the customer never viewed the offer.\n",
    "\n",
    "### Cleaning\n",
    "\n",
    "This makes data cleaning especially important and tricky.\n",
    "\n",
    "You'll also want to take into account that some demographic groups will make purchases even if they don't receive an offer. From a business perspective, if a customer is going to make a 10 dollar purchase without an offer anyway, you wouldn't want to send a buy 10 dollars get 2 dollars off offer. You'll want to try to assess what a certain demographic group will buy when not receiving any offers.\n",
    "\n",
    "### Final Advice\n",
    "\n",
    "Because this is a capstone project, you are free to analyze the data any way you see fit. For example, you could build a machine learning model that predicts how much someone will spend based on demographics and offer type. Or you could build a model that predicts whether or not someone will respond to an offer. Or, you don't need to build a machine learning model at all. You could develop a set of heuristics that determine what offer you should send to each customer (i.e., 75 percent of women customers who were 35 years old responded to offer A vs 40 percent from the same demographic to offer B, so send offer A)."
   ]
  },
  {
   "cell_type": "markdown",
   "id": "47a2c6bf",
   "metadata": {},
   "source": [
    "# Data Sets\n",
    "\n",
    "The data is contained in three files:\n",
    "\n",
    "* portfolio.json - containing offer ids and meta data about each offer (duration, type, etc.)\n",
    "* profile.json - demographic data for each customer\n",
    "* transcript.json - records for transactions, offers received, offers viewed, and offers completed\n",
    "\n",
    "Here is the schema and explanation of each variable in the files:\n",
    "\n",
    "**portfolio.json**\n",
    "* id (string) - offer id\n",
    "* offer_type (string) - type of offer ie BOGO, discount, informational\n",
    "* difficulty (int) - minimum required spend to complete an offer\n",
    "* reward (int) - reward given for completing an offer\n",
    "* duration (int) - time for offer to be open, in days\n",
    "* channels (list of strings)\n",
    "\n",
    "**profile.json**\n",
    "* age (int) - age of the customer \n",
    "* became_member_on (int) - date when customer created an app account\n",
    "* gender (str) - gender of the customer (note some entries contain 'O' for other rather than M or F)\n",
    "* id (str) - customer id\n",
    "* income (float) - customer's income\n",
    "\n",
    "**transcript.json**\n",
    "* event (str) - record description (ie transaction, offer received, offer viewed, etc.)\n",
    "* person (str) - customer id\n",
    "* time (int) - time in hours since start of test. The data begins at time t=0\n",
    "* value - (dict of strings) - either an offer id or transaction amount depending on the record\n",
    "\n",
    "**Note:** If you are using the workspace, you will need to go to the terminal and run the command `conda update pandas` before reading in the files. This is because the version of pandas in the workspace cannot read in the transcript.json file correctly, but the newest version of pandas can. You can access the termnal from the orange icon in the top left of this notebook.  \n",
    "\n",
    "You can see how to access the terminal and how the install works using the two images below.  First you need to access the terminal:\n",
    "\n",
    "\n",
    "\n",
    "Then you will want to run the above command:\n",
    "\n",
    "\n",
    "\n",
    "Finally, when you enter back into the notebook (use the jupyter icon again), you should be able to run the below cell without any errors."
   ]
  },
  {
   "cell_type": "markdown",
   "id": "f0ca9c69",
   "metadata": {},
   "source": [
    "# Overview of the Project"
   ]
  },
  {
   "cell_type": "markdown",
   "id": "b9254ec5",
   "metadata": {},
   "source": [
    "##  Load Library"
   ]
  },
  {
   "cell_type": "code",
   "execution_count": 64,
   "id": "48e74b83",
   "metadata": {},
   "outputs": [],
   "source": [
    "import pandas as pd\n",
    "import numpy as np\n",
    "import seaborn as sns\n",
    "import json\n",
    "import datetime\n",
    "import matplotlib.pyplot as plt \n",
    "\n",
    "from sklearn.preprocessing import MinMaxScaler\n",
    "from sklearn.model_selection import train_test_split\n",
    "from sklearn.tree import DecisionTreeClassifier\n",
    "from sklearn.neighbors import KNeighborsClassifier\n",
    "from sklearn.ensemble import RandomForestClassifier\n",
    "from sklearn.metrics import accuracy_score, f1_score, confusion_matrix\n",
    "\n",
    "%matplotlib inline"
   ]
  },
  {
   "cell_type": "markdown",
   "id": "275e836f",
   "metadata": {},
   "source": [
    "## Load Data"
   ]
  },
  {
   "cell_type": "code",
   "execution_count": 2,
   "id": "1f18641a",
   "metadata": {},
   "outputs": [],
   "source": [
    "# read in the json files\n",
    "portfolio = pd.read_json('data/portfolio.json', orient='records', lines=True)\n",
    "profile = pd.read_json('data/profile.json', orient='records', lines=True)\n",
    "transcript = pd.read_json('data/transcript.json', orient='records', lines=True)"
   ]
  },
  {
   "cell_type": "markdown",
   "id": "9f106b24",
   "metadata": {},
   "source": [
    "## Cleansing and Exploratory Data"
   ]
  },
  {
   "cell_type": "markdown",
   "id": "681ca210",
   "metadata": {},
   "source": [
    "**1. Portfolio Dataset**"
   ]
  },
  {
   "cell_type": "code",
   "execution_count": 3,
   "id": "a82b69b6",
   "metadata": {},
   "outputs": [
    {
     "data": {
      "text/html": [
       "<div>\n",
       "<style scoped>\n",
       "    .dataframe tbody tr th:only-of-type {\n",
       "        vertical-align: middle;\n",
       "    }\n",
       "\n",
       "    .dataframe tbody tr th {\n",
       "        vertical-align: top;\n",
       "    }\n",
       "\n",
       "    .dataframe thead th {\n",
       "        text-align: right;\n",
       "    }\n",
       "</style>\n",
       "<table border=\"1\" class=\"dataframe\">\n",
       "  <thead>\n",
       "    <tr style=\"text-align: right;\">\n",
       "      <th></th>\n",
       "      <th>reward</th>\n",
       "      <th>channels</th>\n",
       "      <th>difficulty</th>\n",
       "      <th>duration</th>\n",
       "      <th>offer_type</th>\n",
       "      <th>id</th>\n",
       "    </tr>\n",
       "  </thead>\n",
       "  <tbody>\n",
       "    <tr>\n",
       "      <th>0</th>\n",
       "      <td>10</td>\n",
       "      <td>[email, mobile, social]</td>\n",
       "      <td>10</td>\n",
       "      <td>7</td>\n",
       "      <td>bogo</td>\n",
       "      <td>ae264e3637204a6fb9bb56bc8210ddfd</td>\n",
       "    </tr>\n",
       "    <tr>\n",
       "      <th>1</th>\n",
       "      <td>10</td>\n",
       "      <td>[web, email, mobile, social]</td>\n",
       "      <td>10</td>\n",
       "      <td>5</td>\n",
       "      <td>bogo</td>\n",
       "      <td>4d5c57ea9a6940dd891ad53e9dbe8da0</td>\n",
       "    </tr>\n",
       "    <tr>\n",
       "      <th>2</th>\n",
       "      <td>0</td>\n",
       "      <td>[web, email, mobile]</td>\n",
       "      <td>0</td>\n",
       "      <td>4</td>\n",
       "      <td>informational</td>\n",
       "      <td>3f207df678b143eea3cee63160fa8bed</td>\n",
       "    </tr>\n",
       "    <tr>\n",
       "      <th>3</th>\n",
       "      <td>5</td>\n",
       "      <td>[web, email, mobile]</td>\n",
       "      <td>5</td>\n",
       "      <td>7</td>\n",
       "      <td>bogo</td>\n",
       "      <td>9b98b8c7a33c4b65b9aebfe6a799e6d9</td>\n",
       "    </tr>\n",
       "    <tr>\n",
       "      <th>4</th>\n",
       "      <td>5</td>\n",
       "      <td>[web, email]</td>\n",
       "      <td>20</td>\n",
       "      <td>10</td>\n",
       "      <td>discount</td>\n",
       "      <td>0b1e1539f2cc45b7b9fa7c272da2e1d7</td>\n",
       "    </tr>\n",
       "  </tbody>\n",
       "</table>\n",
       "</div>"
      ],
      "text/plain": [
       "   reward                      channels  difficulty  duration     offer_type  \\\n",
       "0      10       [email, mobile, social]          10         7           bogo   \n",
       "1      10  [web, email, mobile, social]          10         5           bogo   \n",
       "2       0          [web, email, mobile]           0         4  informational   \n",
       "3       5          [web, email, mobile]           5         7           bogo   \n",
       "4       5                  [web, email]          20        10       discount   \n",
       "\n",
       "                                 id  \n",
       "0  ae264e3637204a6fb9bb56bc8210ddfd  \n",
       "1  4d5c57ea9a6940dd891ad53e9dbe8da0  \n",
       "2  3f207df678b143eea3cee63160fa8bed  \n",
       "3  9b98b8c7a33c4b65b9aebfe6a799e6d9  \n",
       "4  0b1e1539f2cc45b7b9fa7c272da2e1d7  "
      ]
     },
     "execution_count": 3,
     "metadata": {},
     "output_type": "execute_result"
    }
   ],
   "source": [
    "portfolio.head()"
   ]
  },
  {
   "cell_type": "code",
   "execution_count": 4,
   "id": "2d7e7287",
   "metadata": {},
   "outputs": [
    {
     "name": "stdout",
     "output_type": "stream",
     "text": [
      "Total number of Row: 10 and Column: 6\n"
     ]
    }
   ],
   "source": [
    "print('Total number of Row: {} and Column: {}'.format(portfolio.shape[0], portfolio.shape[1]))"
   ]
  },
  {
   "cell_type": "code",
   "execution_count": 5,
   "id": "378165ab",
   "metadata": {},
   "outputs": [
    {
     "name": "stdout",
     "output_type": "stream",
     "text": [
      "<class 'pandas.core.frame.DataFrame'>\n",
      "RangeIndex: 10 entries, 0 to 9\n",
      "Data columns (total 6 columns):\n",
      " #   Column      Non-Null Count  Dtype \n",
      "---  ------      --------------  ----- \n",
      " 0   reward      10 non-null     int64 \n",
      " 1   channels    10 non-null     object\n",
      " 2   difficulty  10 non-null     int64 \n",
      " 3   duration    10 non-null     int64 \n",
      " 4   offer_type  10 non-null     object\n",
      " 5   id          10 non-null     object\n",
      "dtypes: int64(3), object(3)\n",
      "memory usage: 608.0+ bytes\n"
     ]
    }
   ],
   "source": [
    "portfolio.info()"
   ]
  },
  {
   "cell_type": "code",
   "execution_count": 6,
   "id": "5cbdbb0a",
   "metadata": {},
   "outputs": [],
   "source": [
    "def preparation_data_portfolio(portfolio):\n",
    "    '''\n",
    "    preparation data portfolio\n",
    "    \n",
    "    Input:\n",
    "    portfolio - the portfolio dataframe to be prepared\n",
    "    \n",
    "    Return:\n",
    "    portfolio - the prepared portfolio dataframe\n",
    "    \n",
    "    '''\n",
    "    # creating a copy from the dataset\n",
    "    pre_portfolio = portfolio.copy()\n",
    "    \n",
    "    # changing duration column from days to hours\n",
    "    pre_portfolio['duration'] = pre_portfolio['duration']*24\n",
    "    \n",
    "    # renaming duration column to duration_hours\n",
    "    pre_portfolio.rename(columns={'duration':'duration_hours'},inplace=True)\n",
    "    \n",
    "    # renaming id column to offer_id\n",
    "    pre_portfolio.rename(columns={'id':'offer_id'},inplace=True)\n",
    "         \n",
    "    # creating one hot encoding from the channels column \n",
    "    pre_portfolio['channel_email'] = pre_portfolio['channels'].apply(lambda x: 1 if 'email' in x else 0)\n",
    "    pre_portfolio['channel_mobile'] = pre_portfolio['channels'].apply(lambda x: 1 if 'mobile' in x else 0)\n",
    "    pre_portfolio['channel_social'] = pre_portfolio['channels'].apply(lambda x: 1 if 'social' in x else 0)\n",
    "    pre_portfolio['channel_web'] = pre_portfolio['channels'].apply(lambda x: 1 if 'web' in x else 0)\n",
    "    \n",
    "    # dropping the channels column\n",
    "    pre_portfolio.drop('channels', axis=1, inplace=True)\n",
    "    \n",
    "    return pre_portfolio"
   ]
  },
  {
   "cell_type": "code",
   "execution_count": 7,
   "id": "11ec0d64",
   "metadata": {},
   "outputs": [],
   "source": [
    "pre_portfolio = preparation_data_portfolio(portfolio)"
   ]
  },
  {
   "cell_type": "code",
   "execution_count": 8,
   "id": "b104134d",
   "metadata": {
    "scrolled": true
   },
   "outputs": [
    {
     "data": {
      "text/html": [
       "<div>\n",
       "<style scoped>\n",
       "    .dataframe tbody tr th:only-of-type {\n",
       "        vertical-align: middle;\n",
       "    }\n",
       "\n",
       "    .dataframe tbody tr th {\n",
       "        vertical-align: top;\n",
       "    }\n",
       "\n",
       "    .dataframe thead th {\n",
       "        text-align: right;\n",
       "    }\n",
       "</style>\n",
       "<table border=\"1\" class=\"dataframe\">\n",
       "  <thead>\n",
       "    <tr style=\"text-align: right;\">\n",
       "      <th></th>\n",
       "      <th>reward</th>\n",
       "      <th>difficulty</th>\n",
       "      <th>duration_hours</th>\n",
       "      <th>offer_type</th>\n",
       "      <th>offer_id</th>\n",
       "      <th>channel_email</th>\n",
       "      <th>channel_mobile</th>\n",
       "      <th>channel_social</th>\n",
       "      <th>channel_web</th>\n",
       "    </tr>\n",
       "  </thead>\n",
       "  <tbody>\n",
       "    <tr>\n",
       "      <th>0</th>\n",
       "      <td>10</td>\n",
       "      <td>10</td>\n",
       "      <td>168</td>\n",
       "      <td>bogo</td>\n",
       "      <td>ae264e3637204a6fb9bb56bc8210ddfd</td>\n",
       "      <td>1</td>\n",
       "      <td>1</td>\n",
       "      <td>1</td>\n",
       "      <td>0</td>\n",
       "    </tr>\n",
       "    <tr>\n",
       "      <th>1</th>\n",
       "      <td>10</td>\n",
       "      <td>10</td>\n",
       "      <td>120</td>\n",
       "      <td>bogo</td>\n",
       "      <td>4d5c57ea9a6940dd891ad53e9dbe8da0</td>\n",
       "      <td>1</td>\n",
       "      <td>1</td>\n",
       "      <td>1</td>\n",
       "      <td>1</td>\n",
       "    </tr>\n",
       "    <tr>\n",
       "      <th>2</th>\n",
       "      <td>0</td>\n",
       "      <td>0</td>\n",
       "      <td>96</td>\n",
       "      <td>informational</td>\n",
       "      <td>3f207df678b143eea3cee63160fa8bed</td>\n",
       "      <td>1</td>\n",
       "      <td>1</td>\n",
       "      <td>0</td>\n",
       "      <td>1</td>\n",
       "    </tr>\n",
       "    <tr>\n",
       "      <th>3</th>\n",
       "      <td>5</td>\n",
       "      <td>5</td>\n",
       "      <td>168</td>\n",
       "      <td>bogo</td>\n",
       "      <td>9b98b8c7a33c4b65b9aebfe6a799e6d9</td>\n",
       "      <td>1</td>\n",
       "      <td>1</td>\n",
       "      <td>0</td>\n",
       "      <td>1</td>\n",
       "    </tr>\n",
       "    <tr>\n",
       "      <th>4</th>\n",
       "      <td>5</td>\n",
       "      <td>20</td>\n",
       "      <td>240</td>\n",
       "      <td>discount</td>\n",
       "      <td>0b1e1539f2cc45b7b9fa7c272da2e1d7</td>\n",
       "      <td>1</td>\n",
       "      <td>0</td>\n",
       "      <td>0</td>\n",
       "      <td>1</td>\n",
       "    </tr>\n",
       "  </tbody>\n",
       "</table>\n",
       "</div>"
      ],
      "text/plain": [
       "   reward  difficulty  duration_hours     offer_type  \\\n",
       "0      10          10             168           bogo   \n",
       "1      10          10             120           bogo   \n",
       "2       0           0              96  informational   \n",
       "3       5           5             168           bogo   \n",
       "4       5          20             240       discount   \n",
       "\n",
       "                           offer_id  channel_email  channel_mobile  \\\n",
       "0  ae264e3637204a6fb9bb56bc8210ddfd              1               1   \n",
       "1  4d5c57ea9a6940dd891ad53e9dbe8da0              1               1   \n",
       "2  3f207df678b143eea3cee63160fa8bed              1               1   \n",
       "3  9b98b8c7a33c4b65b9aebfe6a799e6d9              1               1   \n",
       "4  0b1e1539f2cc45b7b9fa7c272da2e1d7              1               0   \n",
       "\n",
       "   channel_social  channel_web  \n",
       "0               1            0  \n",
       "1               1            1  \n",
       "2               0            1  \n",
       "3               0            1  \n",
       "4               0            1  "
      ]
     },
     "execution_count": 8,
     "metadata": {},
     "output_type": "execute_result"
    }
   ],
   "source": [
    "pre_portfolio.head()"
   ]
  },
  {
   "cell_type": "code",
   "execution_count": 9,
   "id": "524ca586",
   "metadata": {},
   "outputs": [],
   "source": [
    "# replacing the offer_id by more easy ids\n",
    "offer_id = pre_portfolio['offer_id'].astype('category').cat.categories.tolist()\n",
    "replace_offer_id = {'offer_id' : {k: v for k,v in zip(offer_id,list(range(1,len(offer_id)+1)))}}\n",
    "\n",
    "# replacing the categorical values in the offer_id column by numberical values\n",
    "pre_portfolio.replace(replace_offer_id, inplace=True)"
   ]
  },
  {
   "cell_type": "code",
   "execution_count": 10,
   "id": "7d733ce2",
   "metadata": {},
   "outputs": [],
   "source": [
    "def cleaned_portfolio(pre_portfolio):\n",
    "    '''\n",
    "    cleaning data  portfolio \n",
    "    \n",
    "    Input:\n",
    "    portfolio - the portfolio dataframe to be cleaned\n",
    "    \n",
    "    Return:\n",
    "    portfolio - the cleaned portfolio dataframe\n",
    "    \n",
    "    '''\n",
    "    # Initialize a scaler, then apply it to the features\n",
    "    scaler = MinMaxScaler() # default=(0, 1)\n",
    "    numerical = ['difficulty','reward']\n",
    "\n",
    "    #features_log_minmax_transform = pd.DataFrame(data = features_log_transformed)\n",
    "    pre_portfolio[numerical] = scaler.fit_transform(pre_portfolio[numerical])\n",
    "    \n",
    "    # replacing offer_type by integers representing each offer type\n",
    "    offer_type = pre_portfolio['offer_type'].astype('category').cat.categories.tolist()\n",
    "    replace_offer_type = {'offer_type' : {k: v for k,v in zip(offer_type,list(range(1,len(offer_type)+1)))}}\n",
    "\n",
    "    # replacing the categorical values in offer_type column by numberical values\n",
    "    pre_portfolio.replace(replace_offer_type, inplace=True)\n",
    "    \n",
    "    return pre_portfolio"
   ]
  },
  {
   "cell_type": "code",
   "execution_count": 11,
   "id": "7f12eb28",
   "metadata": {},
   "outputs": [],
   "source": [
    "cleaned_portfolio = cleaned_portfolio(pre_portfolio)"
   ]
  },
  {
   "cell_type": "code",
   "execution_count": 12,
   "id": "92257fd8",
   "metadata": {},
   "outputs": [
    {
     "data": {
      "text/html": [
       "<div>\n",
       "<style scoped>\n",
       "    .dataframe tbody tr th:only-of-type {\n",
       "        vertical-align: middle;\n",
       "    }\n",
       "\n",
       "    .dataframe tbody tr th {\n",
       "        vertical-align: top;\n",
       "    }\n",
       "\n",
       "    .dataframe thead th {\n",
       "        text-align: right;\n",
       "    }\n",
       "</style>\n",
       "<table border=\"1\" class=\"dataframe\">\n",
       "  <thead>\n",
       "    <tr style=\"text-align: right;\">\n",
       "      <th></th>\n",
       "      <th>reward</th>\n",
       "      <th>difficulty</th>\n",
       "      <th>duration_hours</th>\n",
       "      <th>offer_type</th>\n",
       "      <th>offer_id</th>\n",
       "      <th>channel_email</th>\n",
       "      <th>channel_mobile</th>\n",
       "      <th>channel_social</th>\n",
       "      <th>channel_web</th>\n",
       "    </tr>\n",
       "  </thead>\n",
       "  <tbody>\n",
       "    <tr>\n",
       "      <th>0</th>\n",
       "      <td>1.0</td>\n",
       "      <td>0.50</td>\n",
       "      <td>168</td>\n",
       "      <td>1</td>\n",
       "      <td>8</td>\n",
       "      <td>1</td>\n",
       "      <td>1</td>\n",
       "      <td>1</td>\n",
       "      <td>0</td>\n",
       "    </tr>\n",
       "    <tr>\n",
       "      <th>1</th>\n",
       "      <td>1.0</td>\n",
       "      <td>0.50</td>\n",
       "      <td>120</td>\n",
       "      <td>1</td>\n",
       "      <td>5</td>\n",
       "      <td>1</td>\n",
       "      <td>1</td>\n",
       "      <td>1</td>\n",
       "      <td>1</td>\n",
       "    </tr>\n",
       "    <tr>\n",
       "      <th>2</th>\n",
       "      <td>0.0</td>\n",
       "      <td>0.00</td>\n",
       "      <td>96</td>\n",
       "      <td>3</td>\n",
       "      <td>4</td>\n",
       "      <td>1</td>\n",
       "      <td>1</td>\n",
       "      <td>0</td>\n",
       "      <td>1</td>\n",
       "    </tr>\n",
       "    <tr>\n",
       "      <th>3</th>\n",
       "      <td>0.5</td>\n",
       "      <td>0.25</td>\n",
       "      <td>168</td>\n",
       "      <td>1</td>\n",
       "      <td>7</td>\n",
       "      <td>1</td>\n",
       "      <td>1</td>\n",
       "      <td>0</td>\n",
       "      <td>1</td>\n",
       "    </tr>\n",
       "    <tr>\n",
       "      <th>4</th>\n",
       "      <td>0.5</td>\n",
       "      <td>1.00</td>\n",
       "      <td>240</td>\n",
       "      <td>2</td>\n",
       "      <td>1</td>\n",
       "      <td>1</td>\n",
       "      <td>0</td>\n",
       "      <td>0</td>\n",
       "      <td>1</td>\n",
       "    </tr>\n",
       "  </tbody>\n",
       "</table>\n",
       "</div>"
      ],
      "text/plain": [
       "   reward  difficulty  duration_hours  offer_type  offer_id  channel_email  \\\n",
       "0     1.0        0.50             168           1         8              1   \n",
       "1     1.0        0.50             120           1         5              1   \n",
       "2     0.0        0.00              96           3         4              1   \n",
       "3     0.5        0.25             168           1         7              1   \n",
       "4     0.5        1.00             240           2         1              1   \n",
       "\n",
       "   channel_mobile  channel_social  channel_web  \n",
       "0               1               1            0  \n",
       "1               1               1            1  \n",
       "2               1               0            1  \n",
       "3               1               0            1  \n",
       "4               0               0            1  "
      ]
     },
     "execution_count": 12,
     "metadata": {},
     "output_type": "execute_result"
    }
   ],
   "source": [
    "cleaned_portfolio.head()"
   ]
  },
  {
   "cell_type": "code",
   "execution_count": 13,
   "id": "adc3ed28",
   "metadata": {},
   "outputs": [
    {
     "name": "stdout",
     "output_type": "stream",
     "text": [
      "<class 'pandas.core.frame.DataFrame'>\n",
      "RangeIndex: 10 entries, 0 to 9\n",
      "Data columns (total 9 columns):\n",
      " #   Column          Non-Null Count  Dtype  \n",
      "---  ------          --------------  -----  \n",
      " 0   reward          10 non-null     float64\n",
      " 1   difficulty      10 non-null     float64\n",
      " 2   duration_hours  10 non-null     int64  \n",
      " 3   offer_type      10 non-null     int64  \n",
      " 4   offer_id        10 non-null     int64  \n",
      " 5   channel_email   10 non-null     int64  \n",
      " 6   channel_mobile  10 non-null     int64  \n",
      " 7   channel_social  10 non-null     int64  \n",
      " 8   channel_web     10 non-null     int64  \n",
      "dtypes: float64(2), int64(7)\n",
      "memory usage: 848.0 bytes\n"
     ]
    }
   ],
   "source": [
    "cleaned_portfolio.info()"
   ]
  },
  {
   "cell_type": "markdown",
   "id": "69d5c676",
   "metadata": {},
   "source": [
    "**2. Profile Dataset**"
   ]
  },
  {
   "cell_type": "code",
   "execution_count": 14,
   "id": "d086a1e1",
   "metadata": {
    "scrolled": true
   },
   "outputs": [
    {
     "data": {
      "text/html": [
       "<div>\n",
       "<style scoped>\n",
       "    .dataframe tbody tr th:only-of-type {\n",
       "        vertical-align: middle;\n",
       "    }\n",
       "\n",
       "    .dataframe tbody tr th {\n",
       "        vertical-align: top;\n",
       "    }\n",
       "\n",
       "    .dataframe thead th {\n",
       "        text-align: right;\n",
       "    }\n",
       "</style>\n",
       "<table border=\"1\" class=\"dataframe\">\n",
       "  <thead>\n",
       "    <tr style=\"text-align: right;\">\n",
       "      <th></th>\n",
       "      <th>gender</th>\n",
       "      <th>age</th>\n",
       "      <th>id</th>\n",
       "      <th>became_member_on</th>\n",
       "      <th>income</th>\n",
       "    </tr>\n",
       "  </thead>\n",
       "  <tbody>\n",
       "    <tr>\n",
       "      <th>0</th>\n",
       "      <td>None</td>\n",
       "      <td>118</td>\n",
       "      <td>68be06ca386d4c31939f3a4f0e3dd783</td>\n",
       "      <td>20170212</td>\n",
       "      <td>NaN</td>\n",
       "    </tr>\n",
       "    <tr>\n",
       "      <th>1</th>\n",
       "      <td>F</td>\n",
       "      <td>55</td>\n",
       "      <td>0610b486422d4921ae7d2bf64640c50b</td>\n",
       "      <td>20170715</td>\n",
       "      <td>112000.0</td>\n",
       "    </tr>\n",
       "    <tr>\n",
       "      <th>2</th>\n",
       "      <td>None</td>\n",
       "      <td>118</td>\n",
       "      <td>38fe809add3b4fcf9315a9694bb96ff5</td>\n",
       "      <td>20180712</td>\n",
       "      <td>NaN</td>\n",
       "    </tr>\n",
       "    <tr>\n",
       "      <th>3</th>\n",
       "      <td>F</td>\n",
       "      <td>75</td>\n",
       "      <td>78afa995795e4d85b5d9ceeca43f5fef</td>\n",
       "      <td>20170509</td>\n",
       "      <td>100000.0</td>\n",
       "    </tr>\n",
       "    <tr>\n",
       "      <th>4</th>\n",
       "      <td>None</td>\n",
       "      <td>118</td>\n",
       "      <td>a03223e636434f42ac4c3df47e8bac43</td>\n",
       "      <td>20170804</td>\n",
       "      <td>NaN</td>\n",
       "    </tr>\n",
       "  </tbody>\n",
       "</table>\n",
       "</div>"
      ],
      "text/plain": [
       "  gender  age                                id  became_member_on    income\n",
       "0   None  118  68be06ca386d4c31939f3a4f0e3dd783          20170212       NaN\n",
       "1      F   55  0610b486422d4921ae7d2bf64640c50b          20170715  112000.0\n",
       "2   None  118  38fe809add3b4fcf9315a9694bb96ff5          20180712       NaN\n",
       "3      F   75  78afa995795e4d85b5d9ceeca43f5fef          20170509  100000.0\n",
       "4   None  118  a03223e636434f42ac4c3df47e8bac43          20170804       NaN"
      ]
     },
     "execution_count": 14,
     "metadata": {},
     "output_type": "execute_result"
    }
   ],
   "source": [
    "profile.head()"
   ]
  },
  {
   "cell_type": "code",
   "execution_count": 15,
   "id": "df02e45b",
   "metadata": {},
   "outputs": [
    {
     "name": "stdout",
     "output_type": "stream",
     "text": [
      "Total number of Row: 17000 and Column: 5\n"
     ]
    }
   ],
   "source": [
    "print('Total number of Row: {} and Column: {}'.format(profile.shape[0], profile.shape[1]))"
   ]
  },
  {
   "cell_type": "code",
   "execution_count": 16,
   "id": "f403528b",
   "metadata": {},
   "outputs": [
    {
     "name": "stdout",
     "output_type": "stream",
     "text": [
      "<class 'pandas.core.frame.DataFrame'>\n",
      "RangeIndex: 17000 entries, 0 to 16999\n",
      "Data columns (total 5 columns):\n",
      " #   Column            Non-Null Count  Dtype  \n",
      "---  ------            --------------  -----  \n",
      " 0   gender            14825 non-null  object \n",
      " 1   age               17000 non-null  int64  \n",
      " 2   id                17000 non-null  object \n",
      " 3   became_member_on  17000 non-null  int64  \n",
      " 4   income            14825 non-null  float64\n",
      "dtypes: float64(1), int64(2), object(2)\n",
      "memory usage: 664.2+ KB\n"
     ]
    }
   ],
   "source": [
    "profile.info()"
   ]
  },
  {
   "cell_type": "code",
   "execution_count": 17,
   "id": "8969cecc",
   "metadata": {
    "scrolled": true
   },
   "outputs": [
    {
     "data": {
      "text/plain": [
       "gender              2175\n",
       "age                    0\n",
       "id                     0\n",
       "became_member_on       0\n",
       "income              2175\n",
       "dtype: int64"
      ]
     },
     "execution_count": 17,
     "metadata": {},
     "output_type": "execute_result"
    }
   ],
   "source": [
    "profile.isna().sum()"
   ]
  },
  {
   "cell_type": "code",
   "execution_count": 18,
   "id": "1703a387",
   "metadata": {},
   "outputs": [
    {
     "data": {
      "text/plain": [
       "2175"
      ]
     },
     "execution_count": 18,
     "metadata": {},
     "output_type": "execute_result"
    }
   ],
   "source": [
    "(profile.age == 118).sum()"
   ]
  },
  {
   "cell_type": "code",
   "execution_count": 19,
   "id": "8dd31644",
   "metadata": {},
   "outputs": [],
   "source": [
    "def preparation_data_profile(profile):\n",
    "    '''\n",
    "    preparation data profile\n",
    "    \n",
    "    Input:\n",
    "    profile - the profile dataframe to be prepared\n",
    "    \n",
    "    Return:\n",
    "    profile - the prepared profile dataframe\n",
    "    \n",
    "    '''\n",
    "    # creating a copy from the dataset\n",
    "    pre_profile = profile.copy()\n",
    "\n",
    "    # renaming id column name to customer_id\n",
    "    pre_profile.rename(columns={'id':'customer_id'},inplace=True)\n",
    "    \n",
    "    # reindexing some columns\n",
    "    pre_profile = pre_profile.reindex(columns=['customer_id', 'age', 'became_member_on', 'gender', 'income'])\n",
    "\n",
    "    # age: (numeric) missing value encoded as 118\n",
    "    pre_profile['age'] = pre_profile['age'].apply(lambda x: np.nan if x == 118 else x)\n",
    "    \n",
    "    # drop all missing values\n",
    "    pre_profile.dropna(inplace=True)\n",
    "    \n",
    "    # changing the datatype of age and income columns to integer\n",
    "    pre_profile[['age','income']] = pre_profile[['age','income']].astype(int)    \n",
    "    \n",
    "    return pre_profile"
   ]
  },
  {
   "cell_type": "code",
   "execution_count": 20,
   "id": "f84de6c8",
   "metadata": {},
   "outputs": [],
   "source": [
    "pre_profile = preparation_data_profile(profile)"
   ]
  },
  {
   "cell_type": "code",
   "execution_count": 21,
   "id": "526b2459",
   "metadata": {
    "scrolled": true
   },
   "outputs": [
    {
     "data": {
      "text/html": [
       "<div>\n",
       "<style scoped>\n",
       "    .dataframe tbody tr th:only-of-type {\n",
       "        vertical-align: middle;\n",
       "    }\n",
       "\n",
       "    .dataframe tbody tr th {\n",
       "        vertical-align: top;\n",
       "    }\n",
       "\n",
       "    .dataframe thead th {\n",
       "        text-align: right;\n",
       "    }\n",
       "</style>\n",
       "<table border=\"1\" class=\"dataframe\">\n",
       "  <thead>\n",
       "    <tr style=\"text-align: right;\">\n",
       "      <th></th>\n",
       "      <th>customer_id</th>\n",
       "      <th>age</th>\n",
       "      <th>became_member_on</th>\n",
       "      <th>gender</th>\n",
       "      <th>income</th>\n",
       "    </tr>\n",
       "  </thead>\n",
       "  <tbody>\n",
       "    <tr>\n",
       "      <th>1</th>\n",
       "      <td>0610b486422d4921ae7d2bf64640c50b</td>\n",
       "      <td>55</td>\n",
       "      <td>20170715</td>\n",
       "      <td>F</td>\n",
       "      <td>112000</td>\n",
       "    </tr>\n",
       "    <tr>\n",
       "      <th>3</th>\n",
       "      <td>78afa995795e4d85b5d9ceeca43f5fef</td>\n",
       "      <td>75</td>\n",
       "      <td>20170509</td>\n",
       "      <td>F</td>\n",
       "      <td>100000</td>\n",
       "    </tr>\n",
       "    <tr>\n",
       "      <th>5</th>\n",
       "      <td>e2127556f4f64592b11af22de27a7932</td>\n",
       "      <td>68</td>\n",
       "      <td>20180426</td>\n",
       "      <td>M</td>\n",
       "      <td>70000</td>\n",
       "    </tr>\n",
       "    <tr>\n",
       "      <th>8</th>\n",
       "      <td>389bc3fa690240e798340f5a15918d5c</td>\n",
       "      <td>65</td>\n",
       "      <td>20180209</td>\n",
       "      <td>M</td>\n",
       "      <td>53000</td>\n",
       "    </tr>\n",
       "    <tr>\n",
       "      <th>12</th>\n",
       "      <td>2eeac8d8feae4a8cad5a6af0499a211d</td>\n",
       "      <td>58</td>\n",
       "      <td>20171111</td>\n",
       "      <td>M</td>\n",
       "      <td>51000</td>\n",
       "    </tr>\n",
       "  </tbody>\n",
       "</table>\n",
       "</div>"
      ],
      "text/plain": [
       "                         customer_id  age  became_member_on gender  income\n",
       "1   0610b486422d4921ae7d2bf64640c50b   55          20170715      F  112000\n",
       "3   78afa995795e4d85b5d9ceeca43f5fef   75          20170509      F  100000\n",
       "5   e2127556f4f64592b11af22de27a7932   68          20180426      M   70000\n",
       "8   389bc3fa690240e798340f5a15918d5c   65          20180209      M   53000\n",
       "12  2eeac8d8feae4a8cad5a6af0499a211d   58          20171111      M   51000"
      ]
     },
     "execution_count": 21,
     "metadata": {},
     "output_type": "execute_result"
    }
   ],
   "source": [
    "pre_profile.head()"
   ]
  },
  {
   "cell_type": "code",
   "execution_count": 22,
   "id": "0fe7339d",
   "metadata": {
    "scrolled": false
   },
   "outputs": [
    {
     "data": {
      "text/plain": [
       "Text(0.5, 1.0, 'Age Distribution')"
      ]
     },
     "execution_count": 22,
     "metadata": {},
     "output_type": "execute_result"
    },
    {
     "data": {
      "image/png": "[encoded data removed]",
      "text/plain": [
       "<Figure size 576x360 with 1 Axes>"
      ]
     },
     "metadata": {
      "needs_background": "light"
     },
     "output_type": "display_data"
    }
   ],
   "source": [
    "# plot a age distribution in data\n",
    "fig, ax = plt.subplots(figsize=(8, 5))\n",
    "plt.sca(ax)\n",
    "plt.hist(pre_profile['age'], bins=10)\n",
    "plt.xlabel('Age')\n",
    "plt.ylabel('Count')\n",
    "plt.title('Age Distribution')"
   ]
  },
  {
   "cell_type": "markdown",
   "id": "e23f946d",
   "metadata": {},
   "source": [
    "Based on age distribution plot, shows that the median age of customers is 55 and the number of cutomers with age above 55 tends to decrease."
   ]
  },
  {
   "cell_type": "code",
   "execution_count": 23,
   "id": "ae28e9e4",
   "metadata": {
    "scrolled": true
   },
   "outputs": [
    {
     "data": {
      "text/plain": [
       "Text(0.5, 1.0, 'Income Customers Distribution')"
      ]
     },
     "execution_count": 23,
     "metadata": {},
     "output_type": "execute_result"
    },
    {
     "data": {
      "image/png": "[encoded data removed]",
      "text/plain": [
       "<Figure size 576x360 with 1 Axes>"
      ]
     },
     "metadata": {
      "needs_background": "light"
     },
     "output_type": "display_data"
    }
   ],
   "source": [
    "# plot a income customers distribution in data\n",
    "fig, ax = plt.subplots(figsize=(8, 5))\n",
    "plt.sca(ax)\n",
    "plt.hist(pre_profile['income'])\n",
    "plt.xlabel('Income Customers')\n",
    "plt.ylabel('Count')\n",
    "plt.title('Income Customers Distribution')"
   ]
  },
  {
   "cell_type": "markdown",
   "id": "91ca1a86",
   "metadata": {},
   "source": [
    "Based on the income distribution plot of customers, it shows that income customers have the highest average value around 50000–75000."
   ]
  },
  {
   "cell_type": "code",
   "execution_count": 24,
   "id": "58c12235",
   "metadata": {
    "scrolled": true
   },
   "outputs": [
    {
     "data": {
      "text/plain": [
       "M    8484\n",
       "F    6129\n",
       "O     212\n",
       "Name: gender, dtype: int64"
      ]
     },
     "execution_count": 24,
     "metadata": {},
     "output_type": "execute_result"
    }
   ],
   "source": [
    "# checking the number of gender customers \n",
    "pre_profile.gender.value_counts()"
   ]
  },
  {
   "cell_type": "code",
   "execution_count": 25,
   "id": "96a65d4f",
   "metadata": {
    "scrolled": true
   },
   "outputs": [
    {
     "data": {
      "image/png": "[encoded data removed]",
      "text/plain": [
       "<Figure size 432x288 with 1 Axes>"
      ]
     },
     "metadata": {
      "needs_background": "light"
     },
     "output_type": "display_data"
    }
   ],
   "source": [
    "profile_gender = pre_profile.gender.value_counts()\n",
    "x = ['M','F','O']\n",
    "data = profile_gender\n",
    "plt.bar(x,height = data);\n",
    "xlocs, xlabs = plt.xticks()\n",
    "for i, v in enumerate(data):\n",
    "    plt.text(xlocs[i] - 0.13, v , str(v))\n",
    "plt.xlabel('Gender Type');\n",
    "plt.ylabel('Count');\n",
    "plt.title('The Number of Customers in Each Gender Type');"
   ]
  },
  {
   "cell_type": "markdown",
   "id": "1e0d81a9",
   "metadata": {},
   "source": [
    "Based on the number of costomers in each gender type, it shows that there are more male customers than female customers and others. Customer with male gender has 8484, female has 6129 and other has 212."
   ]
  },
  {
   "cell_type": "code",
   "execution_count": 26,
   "id": "225a4327",
   "metadata": {},
   "outputs": [
    {
     "data": {
      "text/html": [
       "<div>\n",
       "<style scoped>\n",
       "    .dataframe tbody tr th:only-of-type {\n",
       "        vertical-align: middle;\n",
       "    }\n",
       "\n",
       "    .dataframe tbody tr th {\n",
       "        vertical-align: top;\n",
       "    }\n",
       "\n",
       "    .dataframe thead th {\n",
       "        text-align: right;\n",
       "    }\n",
       "</style>\n",
       "<table border=\"1\" class=\"dataframe\">\n",
       "  <thead>\n",
       "    <tr style=\"text-align: right;\">\n",
       "      <th></th>\n",
       "      <th>age</th>\n",
       "      <th>became_member_on</th>\n",
       "      <th>income</th>\n",
       "    </tr>\n",
       "  </thead>\n",
       "  <tbody>\n",
       "    <tr>\n",
       "      <th>count</th>\n",
       "      <td>14825.000000</td>\n",
       "      <td>1.482500e+04</td>\n",
       "      <td>14825.000000</td>\n",
       "    </tr>\n",
       "    <tr>\n",
       "      <th>mean</th>\n",
       "      <td>54.393524</td>\n",
       "      <td>2.016689e+07</td>\n",
       "      <td>65404.991568</td>\n",
       "    </tr>\n",
       "    <tr>\n",
       "      <th>std</th>\n",
       "      <td>17.383705</td>\n",
       "      <td>1.188565e+04</td>\n",
       "      <td>21598.299410</td>\n",
       "    </tr>\n",
       "    <tr>\n",
       "      <th>min</th>\n",
       "      <td>18.000000</td>\n",
       "      <td>2.013073e+07</td>\n",
       "      <td>30000.000000</td>\n",
       "    </tr>\n",
       "    <tr>\n",
       "      <th>25%</th>\n",
       "      <td>42.000000</td>\n",
       "      <td>2.016052e+07</td>\n",
       "      <td>49000.000000</td>\n",
       "    </tr>\n",
       "    <tr>\n",
       "      <th>50%</th>\n",
       "      <td>55.000000</td>\n",
       "      <td>2.017080e+07</td>\n",
       "      <td>64000.000000</td>\n",
       "    </tr>\n",
       "    <tr>\n",
       "      <th>75%</th>\n",
       "      <td>66.000000</td>\n",
       "      <td>2.017123e+07</td>\n",
       "      <td>80000.000000</td>\n",
       "    </tr>\n",
       "    <tr>\n",
       "      <th>max</th>\n",
       "      <td>101.000000</td>\n",
       "      <td>2.018073e+07</td>\n",
       "      <td>120000.000000</td>\n",
       "    </tr>\n",
       "  </tbody>\n",
       "</table>\n",
       "</div>"
      ],
      "text/plain": [
       "                age  became_member_on         income\n",
       "count  14825.000000      1.482500e+04   14825.000000\n",
       "mean      54.393524      2.016689e+07   65404.991568\n",
       "std       17.383705      1.188565e+04   21598.299410\n",
       "min       18.000000      2.013073e+07   30000.000000\n",
       "25%       42.000000      2.016052e+07   49000.000000\n",
       "50%       55.000000      2.017080e+07   64000.000000\n",
       "75%       66.000000      2.017123e+07   80000.000000\n",
       "max      101.000000      2.018073e+07  120000.000000"
      ]
     },
     "execution_count": 26,
     "metadata": {},
     "output_type": "execute_result"
    }
   ],
   "source": [
    "pre_profile.describe()"
   ]
  },
  {
   "cell_type": "code",
   "execution_count": 27,
   "id": "714b62a8",
   "metadata": {},
   "outputs": [],
   "source": [
    "def cleaned_profile(pre_profile):\n",
    "    '''\n",
    "    cleaning data profile \n",
    "    \n",
    "    Input:\n",
    "    profile - the profile dataframe to be cleaned\n",
    "    \n",
    "    Return:\n",
    "    profile - the cleaned profile dataframe\n",
    "    \n",
    "    '''\n",
    "    # creating a new column representing the age group to which the customer belongs \n",
    "    pre_profile['age_group'] = pd.cut(pre_profile['age'], bins=[17, 22, 35, 60, 102],labels=['teenager', 'young-adult', 'adult', 'elderly'])\n",
    "\n",
    "    # replacing the age_group categorical labels by numerical labels\n",
    "    age_group = pre_profile['age_group'].astype('category').cat.categories.tolist()\n",
    "    replace_age_group = {'age_group' : {k: v for k,v in zip(age_group,list(range(1,len(age_group)+1)))}}\n",
    "\n",
    "    # replacing categorical labels in age_group column with numerical labels\n",
    "    pre_profile.replace(replace_age_group, inplace=True)\n",
    "\n",
    "    # creating a new column representing the income group to which the customer belongs \n",
    "    pre_profile['income_customer'] = pd.cut(pre_profile['income'], bins=[29999, 64000, 120100],labels=['below-average', 'above-average'])\n",
    "\n",
    "    # replacing the income_customer categorical labels by numerical labels\n",
    "    income_range = pre_profile['income_customer'].astype('category').cat.categories.tolist()\n",
    "    replace_income_range = {'income_customer' : {k: v for k,v in zip(income_range,list(range(1,len(income_range)+1)))}}\n",
    "\n",
    "    # replacing categorical labels in income_customer column with numerical labels\n",
    "    pre_profile.replace(replace_income_range, inplace=True)\n",
    "\n",
    "    # replacing the gender categorical labels with coressponding numerical label\n",
    "    gender = pre_profile['gender'].astype('category').cat.categories.tolist()\n",
    "    replace_gender = {'gender' : {k: v for k,v in zip(gender,list(range(1,len(gender)+1)))}}\n",
    "    \n",
    "    # replacing categorical labels in gender column with numerical labels\n",
    "    pre_profile.replace(replace_gender, inplace=True)\n",
    "    \n",
    "    # formating became_member_on column to datetime\n",
    "    pre_profile['became_member_on'] = pd.to_datetime(pre_profile['became_member_on'], format='%Y%m%d')\n",
    "   \n",
    "    # creating start_year and start_month columns from became_member_on column\n",
    "    pre_profile['start_year'] = pre_profile.became_member_on.dt.year\n",
    "    pre_profile['start_month'] = pre_profile.became_member_on.dt.month\n",
    "\n",
    "    # dropping age and income columns\n",
    "    pre_profile.drop(columns = ['age','income'], axis=1, inplace=True)\n",
    "    \n",
    "    return pre_profile"
   ]
  },
  {
   "cell_type": "code",
   "execution_count": 28,
   "id": "28f56598",
   "metadata": {
    "scrolled": false
   },
   "outputs": [],
   "source": [
    "cleaned_profile = cleaned_profile(pre_profile)"
   ]
  },
  {
   "cell_type": "code",
   "execution_count": 29,
   "id": "1ae43296",
   "metadata": {
    "scrolled": true
   },
   "outputs": [
    {
     "data": {
      "text/html": [
       "<div>\n",
       "<style scoped>\n",
       "    .dataframe tbody tr th:only-of-type {\n",
       "        vertical-align: middle;\n",
       "    }\n",
       "\n",
       "    .dataframe tbody tr th {\n",
       "        vertical-align: top;\n",
       "    }\n",
       "\n",
       "    .dataframe thead th {\n",
       "        text-align: right;\n",
       "    }\n",
       "</style>\n",
       "<table border=\"1\" class=\"dataframe\">\n",
       "  <thead>\n",
       "    <tr style=\"text-align: right;\">\n",
       "      <th></th>\n",
       "      <th>customer_id</th>\n",
       "      <th>became_member_on</th>\n",
       "      <th>gender</th>\n",
       "      <th>age_group</th>\n",
       "      <th>income_customer</th>\n",
       "      <th>start_year</th>\n",
       "      <th>start_month</th>\n",
       "    </tr>\n",
       "  </thead>\n",
       "  <tbody>\n",
       "    <tr>\n",
       "      <th>1</th>\n",
       "      <td>0610b486422d4921ae7d2bf64640c50b</td>\n",
       "      <td>2017-07-15</td>\n",
       "      <td>1</td>\n",
       "      <td>3</td>\n",
       "      <td>2</td>\n",
       "      <td>2017</td>\n",
       "      <td>7</td>\n",
       "    </tr>\n",
       "    <tr>\n",
       "      <th>3</th>\n",
       "      <td>78afa995795e4d85b5d9ceeca43f5fef</td>\n",
       "      <td>2017-05-09</td>\n",
       "      <td>1</td>\n",
       "      <td>4</td>\n",
       "      <td>2</td>\n",
       "      <td>2017</td>\n",
       "      <td>5</td>\n",
       "    </tr>\n",
       "    <tr>\n",
       "      <th>5</th>\n",
       "      <td>e2127556f4f64592b11af22de27a7932</td>\n",
       "      <td>2018-04-26</td>\n",
       "      <td>2</td>\n",
       "      <td>4</td>\n",
       "      <td>2</td>\n",
       "      <td>2018</td>\n",
       "      <td>4</td>\n",
       "    </tr>\n",
       "    <tr>\n",
       "      <th>8</th>\n",
       "      <td>389bc3fa690240e798340f5a15918d5c</td>\n",
       "      <td>2018-02-09</td>\n",
       "      <td>2</td>\n",
       "      <td>4</td>\n",
       "      <td>1</td>\n",
       "      <td>2018</td>\n",
       "      <td>2</td>\n",
       "    </tr>\n",
       "    <tr>\n",
       "      <th>12</th>\n",
       "      <td>2eeac8d8feae4a8cad5a6af0499a211d</td>\n",
       "      <td>2017-11-11</td>\n",
       "      <td>2</td>\n",
       "      <td>3</td>\n",
       "      <td>1</td>\n",
       "      <td>2017</td>\n",
       "      <td>11</td>\n",
       "    </tr>\n",
       "  </tbody>\n",
       "</table>\n",
       "</div>"
      ],
      "text/plain": [
       "                         customer_id became_member_on  gender age_group  \\\n",
       "1   0610b486422d4921ae7d2bf64640c50b       2017-07-15       1         3   \n",
       "3   78afa995795e4d85b5d9ceeca43f5fef       2017-05-09       1         4   \n",
       "5   e2127556f4f64592b11af22de27a7932       2018-04-26       2         4   \n",
       "8   389bc3fa690240e798340f5a15918d5c       2018-02-09       2         4   \n",
       "12  2eeac8d8feae4a8cad5a6af0499a211d       2017-11-11       2         3   \n",
       "\n",
       "   income_customer  start_year  start_month  \n",
       "1                2        2017            7  \n",
       "3                2        2017            5  \n",
       "5                2        2018            4  \n",
       "8                1        2018            2  \n",
       "12               1        2017           11  "
      ]
     },
     "execution_count": 29,
     "metadata": {},
     "output_type": "execute_result"
    }
   ],
   "source": [
    "cleaned_profile.head()"
   ]
  },
  {
   "cell_type": "code",
   "execution_count": 30,
   "id": "9d722e51",
   "metadata": {},
   "outputs": [],
   "source": [
    "cleaned_profile['income_group'] = cleaned_profile['income_customer'].map({1: 'below-average', 2:'above-average'})"
   ]
  },
  {
   "cell_type": "code",
   "execution_count": 31,
   "id": "058c7527",
   "metadata": {},
   "outputs": [
    {
     "data": {
      "text/html": [
       "<div>\n",
       "<style scoped>\n",
       "    .dataframe tbody tr th:only-of-type {\n",
       "        vertical-align: middle;\n",
       "    }\n",
       "\n",
       "    .dataframe tbody tr th {\n",
       "        vertical-align: top;\n",
       "    }\n",
       "\n",
       "    .dataframe thead th {\n",
       "        text-align: right;\n",
       "    }\n",
       "</style>\n",
       "<table border=\"1\" class=\"dataframe\">\n",
       "  <thead>\n",
       "    <tr style=\"text-align: right;\">\n",
       "      <th></th>\n",
       "      <th>customer_id</th>\n",
       "      <th>became_member_on</th>\n",
       "      <th>gender</th>\n",
       "      <th>age_group</th>\n",
       "      <th>income_customer</th>\n",
       "      <th>start_year</th>\n",
       "      <th>start_month</th>\n",
       "      <th>income_group</th>\n",
       "    </tr>\n",
       "  </thead>\n",
       "  <tbody>\n",
       "    <tr>\n",
       "      <th>1</th>\n",
       "      <td>0610b486422d4921ae7d2bf64640c50b</td>\n",
       "      <td>2017-07-15</td>\n",
       "      <td>1</td>\n",
       "      <td>3</td>\n",
       "      <td>2</td>\n",
       "      <td>2017</td>\n",
       "      <td>7</td>\n",
       "      <td>above-average</td>\n",
       "    </tr>\n",
       "    <tr>\n",
       "      <th>3</th>\n",
       "      <td>78afa995795e4d85b5d9ceeca43f5fef</td>\n",
       "      <td>2017-05-09</td>\n",
       "      <td>1</td>\n",
       "      <td>4</td>\n",
       "      <td>2</td>\n",
       "      <td>2017</td>\n",
       "      <td>5</td>\n",
       "      <td>above-average</td>\n",
       "    </tr>\n",
       "    <tr>\n",
       "      <th>5</th>\n",
       "      <td>e2127556f4f64592b11af22de27a7932</td>\n",
       "      <td>2018-04-26</td>\n",
       "      <td>2</td>\n",
       "      <td>4</td>\n",
       "      <td>2</td>\n",
       "      <td>2018</td>\n",
       "      <td>4</td>\n",
       "      <td>above-average</td>\n",
       "    </tr>\n",
       "    <tr>\n",
       "      <th>8</th>\n",
       "      <td>389bc3fa690240e798340f5a15918d5c</td>\n",
       "      <td>2018-02-09</td>\n",
       "      <td>2</td>\n",
       "      <td>4</td>\n",
       "      <td>1</td>\n",
       "      <td>2018</td>\n",
       "      <td>2</td>\n",
       "      <td>below-average</td>\n",
       "    </tr>\n",
       "    <tr>\n",
       "      <th>12</th>\n",
       "      <td>2eeac8d8feae4a8cad5a6af0499a211d</td>\n",
       "      <td>2017-11-11</td>\n",
       "      <td>2</td>\n",
       "      <td>3</td>\n",
       "      <td>1</td>\n",
       "      <td>2017</td>\n",
       "      <td>11</td>\n",
       "      <td>below-average</td>\n",
       "    </tr>\n",
       "  </tbody>\n",
       "</table>\n",
       "</div>"
      ],
      "text/plain": [
       "                         customer_id became_member_on  gender age_group  \\\n",
       "1   0610b486422d4921ae7d2bf64640c50b       2017-07-15       1         3   \n",
       "3   78afa995795e4d85b5d9ceeca43f5fef       2017-05-09       1         4   \n",
       "5   e2127556f4f64592b11af22de27a7932       2018-04-26       2         4   \n",
       "8   389bc3fa690240e798340f5a15918d5c       2018-02-09       2         4   \n",
       "12  2eeac8d8feae4a8cad5a6af0499a211d       2017-11-11       2         3   \n",
       "\n",
       "   income_customer  start_year  start_month   income_group  \n",
       "1                2        2017            7  above-average  \n",
       "3                2        2017            5  above-average  \n",
       "5                2        2018            4  above-average  \n",
       "8                1        2018            2  below-average  \n",
       "12               1        2017           11  below-average  "
      ]
     },
     "execution_count": 31,
     "metadata": {},
     "output_type": "execute_result"
    }
   ],
   "source": [
    "cleaned_profile.head()"
   ]
  },
  {
   "cell_type": "code",
   "execution_count": 32,
   "id": "37cc08ce",
   "metadata": {
    "scrolled": true
   },
   "outputs": [
    {
     "data": {
      "image/png": "[encoded data removed]",
      "text/plain": [
       "<Figure size 1008x432 with 1 Axes>"
      ]
     },
     "metadata": {
      "needs_background": "light"
     },
     "output_type": "display_data"
    }
   ],
   "source": [
    "plt.figure(figsize=(14, 6))\n",
    "g = sns.countplot(x=\"age_group\", hue=\"income_group\", data=cleaned_profile)\n",
    "plt.title('Below-Average vs Above-Average Income Customer by Each Age Group')\n",
    "plt.ylabel('Total')\n",
    "plt.xlabel('Age Group')\n",
    "xlabels = ['teenager','young-adult','adult','elderly']\n",
    "g.set_xticklabels(xlabels)\n",
    "plt.xticks(rotation = 0)\n",
    "plt.legend(title='Income Customer')\n",
    "plt.show();"
   ]
  },
  {
   "cell_type": "markdown",
   "id": "2bd432b2",
   "metadata": {},
   "source": [
    "Teeneger and young-adult customers who have below-average income are more than customers with above-average income, whereas adult and elderly customers who have above-average income are more than customers with below-average income.\n",
    "The number of adult customers is more than teenagers, young adults and elderly customers."
   ]
  },
  {
   "cell_type": "code",
   "execution_count": 33,
   "id": "4f9eced5",
   "metadata": {},
   "outputs": [
    {
     "data": {
      "image/png": "[encoded data removed]",
      "text/plain": [
       "<Figure size 1008x432 with 1 Axes>"
      ]
     },
     "metadata": {
      "needs_background": "light"
     },
     "output_type": "display_data"
    }
   ],
   "source": [
    "plt.figure(figsize=(14, 6))\n",
    "g = sns.countplot(x=\"gender\", hue=\"income_group\", data=cleaned_profile)\n",
    "plt.title('Below-Average vs Above-Average Income Customer by Each Gender')\n",
    "plt.ylabel('Total')\n",
    "plt.xlabel('Gender')\n",
    "xlabels = ['female','male','other']\n",
    "g.set_xticklabels(xlabels)\n",
    "plt.xticks(rotation = 0)\n",
    "plt.legend(title='Income Customer')\n",
    "plt.show();"
   ]
  },
  {
   "cell_type": "markdown",
   "id": "6eabaa79",
   "metadata": {},
   "source": [
    "Female customers with above-average income more than below-average, whereas male customers with below-average income more than above-average."
   ]
  },
  {
   "cell_type": "markdown",
   "id": "e0bae8b4",
   "metadata": {},
   "source": [
    "**3. Transcript Dataset**"
   ]
  },
  {
   "cell_type": "code",
   "execution_count": 34,
   "id": "e3d4fafb",
   "metadata": {},
   "outputs": [
    {
     "data": {
      "text/html": [
       "<div>\n",
       "<style scoped>\n",
       "    .dataframe tbody tr th:only-of-type {\n",
       "        vertical-align: middle;\n",
       "    }\n",
       "\n",
       "    .dataframe tbody tr th {\n",
       "        vertical-align: top;\n",
       "    }\n",
       "\n",
       "    .dataframe thead th {\n",
       "        text-align: right;\n",
       "    }\n",
       "</style>\n",
       "<table border=\"1\" class=\"dataframe\">\n",
       "  <thead>\n",
       "    <tr style=\"text-align: right;\">\n",
       "      <th></th>\n",
       "      <th>person</th>\n",
       "      <th>event</th>\n",
       "      <th>value</th>\n",
       "      <th>time</th>\n",
       "    </tr>\n",
       "  </thead>\n",
       "  <tbody>\n",
       "    <tr>\n",
       "      <th>0</th>\n",
       "      <td>78afa995795e4d85b5d9ceeca43f5fef</td>\n",
       "      <td>offer received</td>\n",
       "      <td>{'offer id': '9b98b8c7a33c4b65b9aebfe6a799e6d9'}</td>\n",
       "      <td>0</td>\n",
       "    </tr>\n",
       "    <tr>\n",
       "      <th>1</th>\n",
       "      <td>a03223e636434f42ac4c3df47e8bac43</td>\n",
       "      <td>offer received</td>\n",
       "      <td>{'offer id': '0b1e1539f2cc45b7b9fa7c272da2e1d7'}</td>\n",
       "      <td>0</td>\n",
       "    </tr>\n",
       "    <tr>\n",
       "      <th>2</th>\n",
       "      <td>e2127556f4f64592b11af22de27a7932</td>\n",
       "      <td>offer received</td>\n",
       "      <td>{'offer id': '2906b810c7d4411798c6938adc9daaa5'}</td>\n",
       "      <td>0</td>\n",
       "    </tr>\n",
       "    <tr>\n",
       "      <th>3</th>\n",
       "      <td>8ec6ce2a7e7949b1bf142def7d0e0586</td>\n",
       "      <td>offer received</td>\n",
       "      <td>{'offer id': 'fafdcd668e3743c1bb461111dcafc2a4'}</td>\n",
       "      <td>0</td>\n",
       "    </tr>\n",
       "    <tr>\n",
       "      <th>4</th>\n",
       "      <td>68617ca6246f4fbc85e91a2a49552598</td>\n",
       "      <td>offer received</td>\n",
       "      <td>{'offer id': '4d5c57ea9a6940dd891ad53e9dbe8da0'}</td>\n",
       "      <td>0</td>\n",
       "    </tr>\n",
       "  </tbody>\n",
       "</table>\n",
       "</div>"
      ],
      "text/plain": [
       "                             person           event  \\\n",
       "0  78afa995795e4d85b5d9ceeca43f5fef  offer received   \n",
       "1  a03223e636434f42ac4c3df47e8bac43  offer received   \n",
       "2  e2127556f4f64592b11af22de27a7932  offer received   \n",
       "3  8ec6ce2a7e7949b1bf142def7d0e0586  offer received   \n",
       "4  68617ca6246f4fbc85e91a2a49552598  offer received   \n",
       "\n",
       "                                              value  time  \n",
       "0  {'offer id': '9b98b8c7a33c4b65b9aebfe6a799e6d9'}     0  \n",
       "1  {'offer id': '0b1e1539f2cc45b7b9fa7c272da2e1d7'}     0  \n",
       "2  {'offer id': '2906b810c7d4411798c6938adc9daaa5'}     0  \n",
       "3  {'offer id': 'fafdcd668e3743c1bb461111dcafc2a4'}     0  \n",
       "4  {'offer id': '4d5c57ea9a6940dd891ad53e9dbe8da0'}     0  "
      ]
     },
     "execution_count": 34,
     "metadata": {},
     "output_type": "execute_result"
    }
   ],
   "source": [
    "transcript.head()"
   ]
  },
  {
   "cell_type": "code",
   "execution_count": 35,
   "id": "ffdbaa08",
   "metadata": {},
   "outputs": [
    {
     "name": "stdout",
     "output_type": "stream",
     "text": [
      "Total number of Row: 306534 and Column: 4\n"
     ]
    }
   ],
   "source": [
    "print('Total number of Row: {} and Column: {}'.format(transcript.shape[0], transcript.shape[1]))"
   ]
  },
  {
   "cell_type": "code",
   "execution_count": 36,
   "id": "2ac05a5d",
   "metadata": {},
   "outputs": [
    {
     "name": "stdout",
     "output_type": "stream",
     "text": [
      "<class 'pandas.core.frame.DataFrame'>\n",
      "RangeIndex: 306534 entries, 0 to 306533\n",
      "Data columns (total 4 columns):\n",
      " #   Column  Non-Null Count   Dtype \n",
      "---  ------  --------------   ----- \n",
      " 0   person  306534 non-null  object\n",
      " 1   event   306534 non-null  object\n",
      " 2   value   306534 non-null  object\n",
      " 3   time    306534 non-null  int64 \n",
      "dtypes: int64(1), object(3)\n",
      "memory usage: 9.4+ MB\n"
     ]
    }
   ],
   "source": [
    "transcript.info()"
   ]
  },
  {
   "cell_type": "code",
   "execution_count": 37,
   "id": "3f1f2578",
   "metadata": {
    "scrolled": true
   },
   "outputs": [
    {
     "data": {
      "text/plain": [
       "person    0\n",
       "event     0\n",
       "value     0\n",
       "time      0\n",
       "dtype: int64"
      ]
     },
     "execution_count": 37,
     "metadata": {},
     "output_type": "execute_result"
    }
   ],
   "source": [
    "transcript.isna().sum()"
   ]
  },
  {
   "cell_type": "code",
   "execution_count": 38,
   "id": "818796be",
   "metadata": {},
   "outputs": [],
   "source": [
    "def preparation_data_transcript(transcript):\n",
    "    '''\n",
    "    preparation data transcript \n",
    "    \n",
    "    Input:\n",
    "    transcript - the transcript dataframe to be prepared\n",
    "    \n",
    "    Return:\n",
    "    transcript - the prepared transcript dataframe   \n",
    "    \n",
    "    '''\n",
    "    # create a copy from the dataset\n",
    "    pre_transcript = transcript.copy()\n",
    "    \n",
    "    # renaming time column to time_hours\n",
    "    pre_transcript.rename(columns={'time':'time_hours'},inplace=True)\n",
    "    \n",
    "    # renaming person column to customer_id\n",
    "    pre_transcript.rename(columns={'person':'customer_id'},inplace=True)  \n",
    "    \n",
    "    return pre_transcript"
   ]
  },
  {
   "cell_type": "code",
   "execution_count": 39,
   "id": "80a98bb1",
   "metadata": {},
   "outputs": [],
   "source": [
    "pre_transcript = preparation_data_transcript(transcript)"
   ]
  },
  {
   "cell_type": "code",
   "execution_count": 40,
   "id": "78d7291c",
   "metadata": {
    "scrolled": true
   },
   "outputs": [
    {
     "data": {
      "text/html": [
       "<div>\n",
       "<style scoped>\n",
       "    .dataframe tbody tr th:only-of-type {\n",
       "        vertical-align: middle;\n",
       "    }\n",
       "\n",
       "    .dataframe tbody tr th {\n",
       "        vertical-align: top;\n",
       "    }\n",
       "\n",
       "    .dataframe thead th {\n",
       "        text-align: right;\n",
       "    }\n",
       "</style>\n",
       "<table border=\"1\" class=\"dataframe\">\n",
       "  <thead>\n",
       "    <tr style=\"text-align: right;\">\n",
       "      <th></th>\n",
       "      <th>customer_id</th>\n",
       "      <th>event</th>\n",
       "      <th>value</th>\n",
       "      <th>time_hours</th>\n",
       "    </tr>\n",
       "  </thead>\n",
       "  <tbody>\n",
       "    <tr>\n",
       "      <th>0</th>\n",
       "      <td>78afa995795e4d85b5d9ceeca43f5fef</td>\n",
       "      <td>offer received</td>\n",
       "      <td>{'offer id': '9b98b8c7a33c4b65b9aebfe6a799e6d9'}</td>\n",
       "      <td>0</td>\n",
       "    </tr>\n",
       "    <tr>\n",
       "      <th>1</th>\n",
       "      <td>a03223e636434f42ac4c3df47e8bac43</td>\n",
       "      <td>offer received</td>\n",
       "      <td>{'offer id': '0b1e1539f2cc45b7b9fa7c272da2e1d7'}</td>\n",
       "      <td>0</td>\n",
       "    </tr>\n",
       "    <tr>\n",
       "      <th>2</th>\n",
       "      <td>e2127556f4f64592b11af22de27a7932</td>\n",
       "      <td>offer received</td>\n",
       "      <td>{'offer id': '2906b810c7d4411798c6938adc9daaa5'}</td>\n",
       "      <td>0</td>\n",
       "    </tr>\n",
       "    <tr>\n",
       "      <th>3</th>\n",
       "      <td>8ec6ce2a7e7949b1bf142def7d0e0586</td>\n",
       "      <td>offer received</td>\n",
       "      <td>{'offer id': 'fafdcd668e3743c1bb461111dcafc2a4'}</td>\n",
       "      <td>0</td>\n",
       "    </tr>\n",
       "    <tr>\n",
       "      <th>4</th>\n",
       "      <td>68617ca6246f4fbc85e91a2a49552598</td>\n",
       "      <td>offer received</td>\n",
       "      <td>{'offer id': '4d5c57ea9a6940dd891ad53e9dbe8da0'}</td>\n",
       "      <td>0</td>\n",
       "    </tr>\n",
       "  </tbody>\n",
       "</table>\n",
       "</div>"
      ],
      "text/plain": [
       "                        customer_id           event  \\\n",
       "0  78afa995795e4d85b5d9ceeca43f5fef  offer received   \n",
       "1  a03223e636434f42ac4c3df47e8bac43  offer received   \n",
       "2  e2127556f4f64592b11af22de27a7932  offer received   \n",
       "3  8ec6ce2a7e7949b1bf142def7d0e0586  offer received   \n",
       "4  68617ca6246f4fbc85e91a2a49552598  offer received   \n",
       "\n",
       "                                              value  time_hours  \n",
       "0  {'offer id': '9b98b8c7a33c4b65b9aebfe6a799e6d9'}           0  \n",
       "1  {'offer id': '0b1e1539f2cc45b7b9fa7c272da2e1d7'}           0  \n",
       "2  {'offer id': '2906b810c7d4411798c6938adc9daaa5'}           0  \n",
       "3  {'offer id': 'fafdcd668e3743c1bb461111dcafc2a4'}           0  \n",
       "4  {'offer id': '4d5c57ea9a6940dd891ad53e9dbe8da0'}           0  "
      ]
     },
     "execution_count": 40,
     "metadata": {},
     "output_type": "execute_result"
    }
   ],
   "source": [
    "pre_transcript.head()"
   ]
  },
  {
   "cell_type": "code",
   "execution_count": 41,
   "id": "1783a5c6",
   "metadata": {},
   "outputs": [],
   "source": [
    "# extracting each key that exist in value column to a seperate column.\n",
    "keys = []\n",
    "for idx, row in pre_transcript.iterrows():\n",
    "    for key in row['value']:\n",
    "        if key in keys:\n",
    "            continue\n",
    "        else:\n",
    "            keys.append(key)"
   ]
  },
  {
   "cell_type": "code",
   "execution_count": 42,
   "id": "cf7e57cb",
   "metadata": {},
   "outputs": [],
   "source": [
    "# creating columns and specify the datatype of each of them\n",
    "pre_transcript['offer_id'] = '' # string\n",
    "pre_transcript['amount'] = 0    # integer\n",
    "pre_transcript['reward'] = 0    # integer"
   ]
  },
  {
   "cell_type": "code",
   "execution_count": 43,
   "id": "0905c8be",
   "metadata": {},
   "outputs": [],
   "source": [
    "# Iterating over pre_transcript dataset\n",
    "for idx, row in pre_transcript.iterrows():\n",
    "    for key in row['value']:\n",
    "        if key == 'offer_id' or key == 'offer id': # b/c 'offer_id' and 'offer id' are representing the same thing \n",
    "            pre_transcript.at[idx, 'offer_id'] = row['value'][key]\n",
    "        if key == 'amount':\n",
    "            pre_transcript.at[idx, 'amount'] = row['value'][key]\n",
    "        if key == 'reward':\n",
    "            pre_transcript.at[idx, 'reward'] = row['value'][key]"
   ]
  },
  {
   "cell_type": "code",
   "execution_count": 44,
   "id": "ebd0cb04",
   "metadata": {
    "scrolled": true
   },
   "outputs": [
    {
     "data": {
      "text/plain": [
       "['offer id', 'amount', 'offer_id', 'reward']"
      ]
     },
     "execution_count": 44,
     "metadata": {},
     "output_type": "execute_result"
    }
   ],
   "source": [
    "keys"
   ]
  },
  {
   "cell_type": "code",
   "execution_count": 45,
   "id": "79711055",
   "metadata": {},
   "outputs": [
    {
     "data": {
      "text/html": [
       "<div>\n",
       "<style scoped>\n",
       "    .dataframe tbody tr th:only-of-type {\n",
       "        vertical-align: middle;\n",
       "    }\n",
       "\n",
       "    .dataframe tbody tr th {\n",
       "        vertical-align: top;\n",
       "    }\n",
       "\n",
       "    .dataframe thead th {\n",
       "        text-align: right;\n",
       "    }\n",
       "</style>\n",
       "<table border=\"1\" class=\"dataframe\">\n",
       "  <thead>\n",
       "    <tr style=\"text-align: right;\">\n",
       "      <th></th>\n",
       "      <th>customer_id</th>\n",
       "      <th>event</th>\n",
       "      <th>value</th>\n",
       "      <th>time_hours</th>\n",
       "      <th>offer_id</th>\n",
       "      <th>amount</th>\n",
       "      <th>reward</th>\n",
       "    </tr>\n",
       "  </thead>\n",
       "  <tbody>\n",
       "    <tr>\n",
       "      <th>0</th>\n",
       "      <td>78afa995795e4d85b5d9ceeca43f5fef</td>\n",
       "      <td>offer received</td>\n",
       "      <td>{'offer id': '9b98b8c7a33c4b65b9aebfe6a799e6d9'}</td>\n",
       "      <td>0</td>\n",
       "      <td>9b98b8c7a33c4b65b9aebfe6a799e6d9</td>\n",
       "      <td>0.0</td>\n",
       "      <td>0</td>\n",
       "    </tr>\n",
       "    <tr>\n",
       "      <th>1</th>\n",
       "      <td>a03223e636434f42ac4c3df47e8bac43</td>\n",
       "      <td>offer received</td>\n",
       "      <td>{'offer id': '0b1e1539f2cc45b7b9fa7c272da2e1d7'}</td>\n",
       "      <td>0</td>\n",
       "      <td>0b1e1539f2cc45b7b9fa7c272da2e1d7</td>\n",
       "      <td>0.0</td>\n",
       "      <td>0</td>\n",
       "    </tr>\n",
       "    <tr>\n",
       "      <th>2</th>\n",
       "      <td>e2127556f4f64592b11af22de27a7932</td>\n",
       "      <td>offer received</td>\n",
       "      <td>{'offer id': '2906b810c7d4411798c6938adc9daaa5'}</td>\n",
       "      <td>0</td>\n",
       "      <td>2906b810c7d4411798c6938adc9daaa5</td>\n",
       "      <td>0.0</td>\n",
       "      <td>0</td>\n",
       "    </tr>\n",
       "    <tr>\n",
       "      <th>3</th>\n",
       "      <td>8ec6ce2a7e7949b1bf142def7d0e0586</td>\n",
       "      <td>offer received</td>\n",
       "      <td>{'offer id': 'fafdcd668e3743c1bb461111dcafc2a4'}</td>\n",
       "      <td>0</td>\n",
       "      <td>fafdcd668e3743c1bb461111dcafc2a4</td>\n",
       "      <td>0.0</td>\n",
       "      <td>0</td>\n",
       "    </tr>\n",
       "    <tr>\n",
       "      <th>4</th>\n",
       "      <td>68617ca6246f4fbc85e91a2a49552598</td>\n",
       "      <td>offer received</td>\n",
       "      <td>{'offer id': '4d5c57ea9a6940dd891ad53e9dbe8da0'}</td>\n",
       "      <td>0</td>\n",
       "      <td>4d5c57ea9a6940dd891ad53e9dbe8da0</td>\n",
       "      <td>0.0</td>\n",
       "      <td>0</td>\n",
       "    </tr>\n",
       "  </tbody>\n",
       "</table>\n",
       "</div>"
      ],
      "text/plain": [
       "                        customer_id           event  \\\n",
       "0  78afa995795e4d85b5d9ceeca43f5fef  offer received   \n",
       "1  a03223e636434f42ac4c3df47e8bac43  offer received   \n",
       "2  e2127556f4f64592b11af22de27a7932  offer received   \n",
       "3  8ec6ce2a7e7949b1bf142def7d0e0586  offer received   \n",
       "4  68617ca6246f4fbc85e91a2a49552598  offer received   \n",
       "\n",
       "                                              value  time_hours  \\\n",
       "0  {'offer id': '9b98b8c7a33c4b65b9aebfe6a799e6d9'}           0   \n",
       "1  {'offer id': '0b1e1539f2cc45b7b9fa7c272da2e1d7'}           0   \n",
       "2  {'offer id': '2906b810c7d4411798c6938adc9daaa5'}           0   \n",
       "3  {'offer id': 'fafdcd668e3743c1bb461111dcafc2a4'}           0   \n",
       "4  {'offer id': '4d5c57ea9a6940dd891ad53e9dbe8da0'}           0   \n",
       "\n",
       "                           offer_id  amount  reward  \n",
       "0  9b98b8c7a33c4b65b9aebfe6a799e6d9     0.0       0  \n",
       "1  0b1e1539f2cc45b7b9fa7c272da2e1d7     0.0       0  \n",
       "2  2906b810c7d4411798c6938adc9daaa5     0.0       0  \n",
       "3  fafdcd668e3743c1bb461111dcafc2a4     0.0       0  \n",
       "4  4d5c57ea9a6940dd891ad53e9dbe8da0     0.0       0  "
      ]
     },
     "execution_count": 45,
     "metadata": {},
     "output_type": "execute_result"
    }
   ],
   "source": [
    "pre_transcript.head()"
   ]
  },
  {
   "cell_type": "code",
   "execution_count": 46,
   "id": "7ad884f9",
   "metadata": {},
   "outputs": [],
   "source": [
    "# filling all the NaNs in the offer_id column with 'N/A' values (i.e. Not Applicable)\n",
    "pre_transcript['offer_id'] = pre_transcript['offer_id'].apply(lambda x: 'N/A' if x == '' else x)"
   ]
  },
  {
   "cell_type": "code",
   "execution_count": 47,
   "id": "6b055cee",
   "metadata": {},
   "outputs": [],
   "source": [
    "# replacing the categorical values in the offer_id column by its corresponding numerical values\n",
    "pre_transcript.replace(replace_offer_id, inplace=True)"
   ]
  },
  {
   "cell_type": "code",
   "execution_count": 48,
   "id": "0340bccf",
   "metadata": {
    "scrolled": true
   },
   "outputs": [
    {
     "data": {
      "text/html": [
       "<div>\n",
       "<style scoped>\n",
       "    .dataframe tbody tr th:only-of-type {\n",
       "        vertical-align: middle;\n",
       "    }\n",
       "\n",
       "    .dataframe tbody tr th {\n",
       "        vertical-align: top;\n",
       "    }\n",
       "\n",
       "    .dataframe thead th {\n",
       "        text-align: right;\n",
       "    }\n",
       "</style>\n",
       "<table border=\"1\" class=\"dataframe\">\n",
       "  <thead>\n",
       "    <tr style=\"text-align: right;\">\n",
       "      <th></th>\n",
       "      <th>customer_id</th>\n",
       "      <th>event</th>\n",
       "      <th>value</th>\n",
       "      <th>time_hours</th>\n",
       "      <th>offer_id</th>\n",
       "      <th>amount</th>\n",
       "      <th>reward</th>\n",
       "    </tr>\n",
       "  </thead>\n",
       "  <tbody>\n",
       "    <tr>\n",
       "      <th>0</th>\n",
       "      <td>78afa995795e4d85b5d9ceeca43f5fef</td>\n",
       "      <td>offer received</td>\n",
       "      <td>{'offer id': '9b98b8c7a33c4b65b9aebfe6a799e6d9'}</td>\n",
       "      <td>0</td>\n",
       "      <td>7</td>\n",
       "      <td>0.0</td>\n",
       "      <td>0</td>\n",
       "    </tr>\n",
       "    <tr>\n",
       "      <th>1</th>\n",
       "      <td>a03223e636434f42ac4c3df47e8bac43</td>\n",
       "      <td>offer received</td>\n",
       "      <td>{'offer id': '0b1e1539f2cc45b7b9fa7c272da2e1d7'}</td>\n",
       "      <td>0</td>\n",
       "      <td>1</td>\n",
       "      <td>0.0</td>\n",
       "      <td>0</td>\n",
       "    </tr>\n",
       "    <tr>\n",
       "      <th>2</th>\n",
       "      <td>e2127556f4f64592b11af22de27a7932</td>\n",
       "      <td>offer received</td>\n",
       "      <td>{'offer id': '2906b810c7d4411798c6938adc9daaa5'}</td>\n",
       "      <td>0</td>\n",
       "      <td>3</td>\n",
       "      <td>0.0</td>\n",
       "      <td>0</td>\n",
       "    </tr>\n",
       "    <tr>\n",
       "      <th>3</th>\n",
       "      <td>8ec6ce2a7e7949b1bf142def7d0e0586</td>\n",
       "      <td>offer received</td>\n",
       "      <td>{'offer id': 'fafdcd668e3743c1bb461111dcafc2a4'}</td>\n",
       "      <td>0</td>\n",
       "      <td>10</td>\n",
       "      <td>0.0</td>\n",
       "      <td>0</td>\n",
       "    </tr>\n",
       "    <tr>\n",
       "      <th>4</th>\n",
       "      <td>68617ca6246f4fbc85e91a2a49552598</td>\n",
       "      <td>offer received</td>\n",
       "      <td>{'offer id': '4d5c57ea9a6940dd891ad53e9dbe8da0'}</td>\n",
       "      <td>0</td>\n",
       "      <td>5</td>\n",
       "      <td>0.0</td>\n",
       "      <td>0</td>\n",
       "    </tr>\n",
       "  </tbody>\n",
       "</table>\n",
       "</div>"
      ],
      "text/plain": [
       "                        customer_id           event  \\\n",
       "0  78afa995795e4d85b5d9ceeca43f5fef  offer received   \n",
       "1  a03223e636434f42ac4c3df47e8bac43  offer received   \n",
       "2  e2127556f4f64592b11af22de27a7932  offer received   \n",
       "3  8ec6ce2a7e7949b1bf142def7d0e0586  offer received   \n",
       "4  68617ca6246f4fbc85e91a2a49552598  offer received   \n",
       "\n",
       "                                              value  time_hours offer_id  \\\n",
       "0  {'offer id': '9b98b8c7a33c4b65b9aebfe6a799e6d9'}           0        7   \n",
       "1  {'offer id': '0b1e1539f2cc45b7b9fa7c272da2e1d7'}           0        1   \n",
       "2  {'offer id': '2906b810c7d4411798c6938adc9daaa5'}           0        3   \n",
       "3  {'offer id': 'fafdcd668e3743c1bb461111dcafc2a4'}           0       10   \n",
       "4  {'offer id': '4d5c57ea9a6940dd891ad53e9dbe8da0'}           0        5   \n",
       "\n",
       "   amount  reward  \n",
       "0     0.0       0  \n",
       "1     0.0       0  \n",
       "2     0.0       0  \n",
       "3     0.0       0  \n",
       "4     0.0       0  "
      ]
     },
     "execution_count": 48,
     "metadata": {},
     "output_type": "execute_result"
    }
   ],
   "source": [
    "pre_transcript.head()"
   ]
  },
  {
   "cell_type": "code",
   "execution_count": 49,
   "id": "9cf98947",
   "metadata": {},
   "outputs": [
    {
     "data": {
      "text/plain": [
       "array(['offer received', 'offer viewed', 'transaction', 'offer completed'],\n",
       "      dtype=object)"
      ]
     },
     "execution_count": 49,
     "metadata": {},
     "output_type": "execute_result"
    }
   ],
   "source": [
    "pre_transcript.event.unique()"
   ]
  },
  {
   "cell_type": "code",
   "execution_count": 50,
   "id": "d61efbc9",
   "metadata": {},
   "outputs": [],
   "source": [
    "def cleaned_transcript(pre_transcript):\n",
    "    '''\n",
    "    cleaning data transcript \n",
    "    \n",
    "    Input:\n",
    "    transcript - the transcript dataframe to be cleaned\n",
    "    \n",
    "    Return:\n",
    "    transcript - the cleaned transcript dataframe\n",
    "    \n",
    "    '''    \n",
    "    # dropping the value column \n",
    "    pre_transcript.drop('value', axis=1, inplace=True)\n",
    "\n",
    "    # excluding all events of 'transaction' from our clean_transcript dataset\n",
    "    pre_transcript = pre_transcript[pre_transcript['event'] != 'transaction']\n",
    "\n",
    "    # excluding all events of 'offer received' \n",
    "    pre_transcript = pre_transcript[pre_transcript['event'] != 'offer received']\n",
    "\n",
    "    # replacing the 'event' categorical labels with coressponding numerical label\n",
    "    labels_event = pre_transcript['event'].astype('category').cat.categories.tolist()\n",
    "    replace_map_comp_event = {'event' : {k: v for k,v in zip(labels_event,list(range(1,len(labels_event)+1)))}}\n",
    "\n",
    "    # replacing categorical labels in 'event' column with numerical labels\n",
    "    pre_transcript.replace(replace_map_comp_event, inplace=True)\n",
    "    \n",
    "    return pre_transcript"
   ]
  },
  {
   "cell_type": "code",
   "execution_count": 51,
   "id": "6c872c5e",
   "metadata": {},
   "outputs": [],
   "source": [
    "cleaned_transcript = cleaned_transcript(pre_transcript)"
   ]
  },
  {
   "cell_type": "code",
   "execution_count": 52,
   "id": "6526b16d",
   "metadata": {
    "scrolled": false
   },
   "outputs": [
    {
     "data": {
      "text/html": [
       "<div>\n",
       "<style scoped>\n",
       "    .dataframe tbody tr th:only-of-type {\n",
       "        vertical-align: middle;\n",
       "    }\n",
       "\n",
       "    .dataframe tbody tr th {\n",
       "        vertical-align: top;\n",
       "    }\n",
       "\n",
       "    .dataframe thead th {\n",
       "        text-align: right;\n",
       "    }\n",
       "</style>\n",
       "<table border=\"1\" class=\"dataframe\">\n",
       "  <thead>\n",
       "    <tr style=\"text-align: right;\">\n",
       "      <th></th>\n",
       "      <th>customer_id</th>\n",
       "      <th>event</th>\n",
       "      <th>time_hours</th>\n",
       "      <th>offer_id</th>\n",
       "      <th>amount</th>\n",
       "      <th>reward</th>\n",
       "    </tr>\n",
       "  </thead>\n",
       "  <tbody>\n",
       "    <tr>\n",
       "      <th>12650</th>\n",
       "      <td>389bc3fa690240e798340f5a15918d5c</td>\n",
       "      <td>2</td>\n",
       "      <td>0</td>\n",
       "      <td>9</td>\n",
       "      <td>0.0</td>\n",
       "      <td>0</td>\n",
       "    </tr>\n",
       "    <tr>\n",
       "      <th>12651</th>\n",
       "      <td>d1ede868e29245ea91818a903fec04c6</td>\n",
       "      <td>2</td>\n",
       "      <td>0</td>\n",
       "      <td>6</td>\n",
       "      <td>0.0</td>\n",
       "      <td>0</td>\n",
       "    </tr>\n",
       "    <tr>\n",
       "      <th>12652</th>\n",
       "      <td>102e9454054946fda62242d2e176fdce</td>\n",
       "      <td>2</td>\n",
       "      <td>0</td>\n",
       "      <td>5</td>\n",
       "      <td>0.0</td>\n",
       "      <td>0</td>\n",
       "    </tr>\n",
       "    <tr>\n",
       "      <th>12653</th>\n",
       "      <td>02c083884c7d45b39cc68e1314fec56c</td>\n",
       "      <td>2</td>\n",
       "      <td>0</td>\n",
       "      <td>8</td>\n",
       "      <td>0.0</td>\n",
       "      <td>0</td>\n",
       "    </tr>\n",
       "    <tr>\n",
       "      <th>12655</th>\n",
       "      <td>be8a5d1981a2458d90b255ddc7e0d174</td>\n",
       "      <td>2</td>\n",
       "      <td>0</td>\n",
       "      <td>6</td>\n",
       "      <td>0.0</td>\n",
       "      <td>0</td>\n",
       "    </tr>\n",
       "  </tbody>\n",
       "</table>\n",
       "</div>"
      ],
      "text/plain": [
       "                            customer_id  event  time_hours offer_id  amount  \\\n",
       "12650  389bc3fa690240e798340f5a15918d5c      2           0        9     0.0   \n",
       "12651  d1ede868e29245ea91818a903fec04c6      2           0        6     0.0   \n",
       "12652  102e9454054946fda62242d2e176fdce      2           0        5     0.0   \n",
       "12653  02c083884c7d45b39cc68e1314fec56c      2           0        8     0.0   \n",
       "12655  be8a5d1981a2458d90b255ddc7e0d174      2           0        6     0.0   \n",
       "\n",
       "       reward  \n",
       "12650       0  \n",
       "12651       0  \n",
       "12652       0  \n",
       "12653       0  \n",
       "12655       0  "
      ]
     },
     "execution_count": 52,
     "metadata": {},
     "output_type": "execute_result"
    }
   ],
   "source": [
    "cleaned_transcript.head()"
   ]
  },
  {
   "cell_type": "code",
   "execution_count": 53,
   "id": "ecb75729",
   "metadata": {},
   "outputs": [
    {
     "data": {
      "text/plain": [
       "array([2, 1], dtype=int64)"
      ]
     },
     "execution_count": 53,
     "metadata": {},
     "output_type": "execute_result"
    }
   ],
   "source": [
    "cleaned_transcript.event.unique()"
   ]
  },
  {
   "cell_type": "markdown",
   "id": "ddfa2e4b",
   "metadata": {
    "scrolled": true
   },
   "source": [
    "## Merge Data"
   ]
  },
  {
   "cell_type": "code",
   "execution_count": 54,
   "id": "f004633e",
   "metadata": {},
   "outputs": [],
   "source": [
    "def merge_data(cleaned_transcript, cleaned_portfolio, cleaned_profile):\n",
    "    \n",
    "    # merge 'clean_transcript' dataset with 'clean_portfolio' on 'offer_id'\n",
    "    master_df =cleaned_transcript.merge(cleaned_portfolio,how='left',on='offer_id')\n",
    "    \n",
    "    # join 'master_df' dataset with 'clean_profile' on 'customer_id'\n",
    "    master_df = master_df.merge(cleaned_profile,how ='left', on = 'customer_id')\n",
    "\n",
    "    # removing any row that contain NaNs\n",
    "    master_df = master_df.dropna(how='any',axis=0)\n",
    "    \n",
    "    return master_df"
   ]
  },
  {
   "cell_type": "code",
   "execution_count": 55,
   "id": "19302cca",
   "metadata": {},
   "outputs": [],
   "source": [
    "master_df = merge_data(cleaned_transcript, cleaned_portfolio, cleaned_profile)"
   ]
  },
  {
   "cell_type": "code",
   "execution_count": 56,
   "id": "86f32192",
   "metadata": {
    "scrolled": true
   },
   "outputs": [
    {
     "data": {
      "text/html": [
       "<div>\n",
       "<style scoped>\n",
       "    .dataframe tbody tr th:only-of-type {\n",
       "        vertical-align: middle;\n",
       "    }\n",
       "\n",
       "    .dataframe tbody tr th {\n",
       "        vertical-align: top;\n",
       "    }\n",
       "\n",
       "    .dataframe thead th {\n",
       "        text-align: right;\n",
       "    }\n",
       "</style>\n",
       "<table border=\"1\" class=\"dataframe\">\n",
       "  <thead>\n",
       "    <tr style=\"text-align: right;\">\n",
       "      <th></th>\n",
       "      <th>customer_id</th>\n",
       "      <th>event</th>\n",
       "      <th>time_hours</th>\n",
       "      <th>offer_id</th>\n",
       "      <th>amount</th>\n",
       "      <th>reward_x</th>\n",
       "      <th>reward_y</th>\n",
       "      <th>difficulty</th>\n",
       "      <th>duration_hours</th>\n",
       "      <th>offer_type</th>\n",
       "      <th>...</th>\n",
       "      <th>channel_mobile</th>\n",
       "      <th>channel_social</th>\n",
       "      <th>channel_web</th>\n",
       "      <th>became_member_on</th>\n",
       "      <th>gender</th>\n",
       "      <th>age_group</th>\n",
       "      <th>income_customer</th>\n",
       "      <th>start_year</th>\n",
       "      <th>start_month</th>\n",
       "      <th>income_group</th>\n",
       "    </tr>\n",
       "  </thead>\n",
       "  <tbody>\n",
       "    <tr>\n",
       "      <th>0</th>\n",
       "      <td>389bc3fa690240e798340f5a15918d5c</td>\n",
       "      <td>2</td>\n",
       "      <td>0</td>\n",
       "      <td>9</td>\n",
       "      <td>0.0</td>\n",
       "      <td>0</td>\n",
       "      <td>0.5</td>\n",
       "      <td>0.25</td>\n",
       "      <td>120</td>\n",
       "      <td>1</td>\n",
       "      <td>...</td>\n",
       "      <td>1</td>\n",
       "      <td>1</td>\n",
       "      <td>1</td>\n",
       "      <td>2018-02-09</td>\n",
       "      <td>2.0</td>\n",
       "      <td>4</td>\n",
       "      <td>1</td>\n",
       "      <td>2018.0</td>\n",
       "      <td>2.0</td>\n",
       "      <td>below-average</td>\n",
       "    </tr>\n",
       "    <tr>\n",
       "      <th>1</th>\n",
       "      <td>d1ede868e29245ea91818a903fec04c6</td>\n",
       "      <td>2</td>\n",
       "      <td>0</td>\n",
       "      <td>6</td>\n",
       "      <td>0.0</td>\n",
       "      <td>0</td>\n",
       "      <td>0.0</td>\n",
       "      <td>0.00</td>\n",
       "      <td>72</td>\n",
       "      <td>3</td>\n",
       "      <td>...</td>\n",
       "      <td>1</td>\n",
       "      <td>1</td>\n",
       "      <td>0</td>\n",
       "      <td>2017-09-16</td>\n",
       "      <td>3.0</td>\n",
       "      <td>3</td>\n",
       "      <td>1</td>\n",
       "      <td>2017.0</td>\n",
       "      <td>9.0</td>\n",
       "      <td>below-average</td>\n",
       "    </tr>\n",
       "    <tr>\n",
       "      <th>2</th>\n",
       "      <td>102e9454054946fda62242d2e176fdce</td>\n",
       "      <td>2</td>\n",
       "      <td>0</td>\n",
       "      <td>5</td>\n",
       "      <td>0.0</td>\n",
       "      <td>0</td>\n",
       "      <td>1.0</td>\n",
       "      <td>0.50</td>\n",
       "      <td>120</td>\n",
       "      <td>1</td>\n",
       "      <td>...</td>\n",
       "      <td>1</td>\n",
       "      <td>1</td>\n",
       "      <td>1</td>\n",
       "      <td>2016-08-14</td>\n",
       "      <td>1.0</td>\n",
       "      <td>4</td>\n",
       "      <td>1</td>\n",
       "      <td>2016.0</td>\n",
       "      <td>8.0</td>\n",
       "      <td>below-average</td>\n",
       "    </tr>\n",
       "    <tr>\n",
       "      <th>3</th>\n",
       "      <td>02c083884c7d45b39cc68e1314fec56c</td>\n",
       "      <td>2</td>\n",
       "      <td>0</td>\n",
       "      <td>8</td>\n",
       "      <td>0.0</td>\n",
       "      <td>0</td>\n",
       "      <td>1.0</td>\n",
       "      <td>0.50</td>\n",
       "      <td>168</td>\n",
       "      <td>1</td>\n",
       "      <td>...</td>\n",
       "      <td>1</td>\n",
       "      <td>1</td>\n",
       "      <td>0</td>\n",
       "      <td>2016-07-11</td>\n",
       "      <td>1.0</td>\n",
       "      <td>1</td>\n",
       "      <td>1</td>\n",
       "      <td>2016.0</td>\n",
       "      <td>7.0</td>\n",
       "      <td>below-average</td>\n",
       "    </tr>\n",
       "    <tr>\n",
       "      <th>4</th>\n",
       "      <td>be8a5d1981a2458d90b255ddc7e0d174</td>\n",
       "      <td>2</td>\n",
       "      <td>0</td>\n",
       "      <td>6</td>\n",
       "      <td>0.0</td>\n",
       "      <td>0</td>\n",
       "      <td>0.0</td>\n",
       "      <td>0.00</td>\n",
       "      <td>72</td>\n",
       "      <td>3</td>\n",
       "      <td>...</td>\n",
       "      <td>1</td>\n",
       "      <td>1</td>\n",
       "      <td>0</td>\n",
       "      <td>2014-05-27</td>\n",
       "      <td>2.0</td>\n",
       "      <td>3</td>\n",
       "      <td>1</td>\n",
       "      <td>2014.0</td>\n",
       "      <td>5.0</td>\n",
       "      <td>below-average</td>\n",
       "    </tr>\n",
       "  </tbody>\n",
       "</table>\n",
       "<p>5 rows × 21 columns</p>\n",
       "</div>"
      ],
      "text/plain": [
       "                        customer_id  event  time_hours offer_id  amount  \\\n",
       "0  389bc3fa690240e798340f5a15918d5c      2           0        9     0.0   \n",
       "1  d1ede868e29245ea91818a903fec04c6      2           0        6     0.0   \n",
       "2  102e9454054946fda62242d2e176fdce      2           0        5     0.0   \n",
       "3  02c083884c7d45b39cc68e1314fec56c      2           0        8     0.0   \n",
       "4  be8a5d1981a2458d90b255ddc7e0d174      2           0        6     0.0   \n",
       "\n",
       "   reward_x  reward_y  difficulty  duration_hours  offer_type  ...  \\\n",
       "0         0       0.5        0.25             120           1  ...   \n",
       "1         0       0.0        0.00              72           3  ...   \n",
       "2         0       1.0        0.50             120           1  ...   \n",
       "3         0       1.0        0.50             168           1  ...   \n",
       "4         0       0.0        0.00              72           3  ...   \n",
       "\n",
       "   channel_mobile  channel_social  channel_web  became_member_on gender  \\\n",
       "0               1               1            1        2018-02-09    2.0   \n",
       "1               1               1            0        2017-09-16    3.0   \n",
       "2               1               1            1        2016-08-14    1.0   \n",
       "3               1               1            0        2016-07-11    1.0   \n",
       "4               1               1            0        2014-05-27    2.0   \n",
       "\n",
       "   age_group income_customer start_year  start_month   income_group  \n",
       "0          4               1     2018.0          2.0  below-average  \n",
       "1          3               1     2017.0          9.0  below-average  \n",
       "2          4               1     2016.0          8.0  below-average  \n",
       "3          1               1     2016.0          7.0  below-average  \n",
       "4          3               1     2014.0          5.0  below-average  \n",
       "\n",
       "[5 rows x 21 columns]"
      ]
     },
     "execution_count": 56,
     "metadata": {},
     "output_type": "execute_result"
    }
   ],
   "source": [
    "master_df.head()"
   ]
  },
  {
   "cell_type": "code",
   "execution_count": 57,
   "id": "2f349e3c",
   "metadata": {},
   "outputs": [
    {
     "name": "stdout",
     "output_type": "stream",
     "text": [
      "<class 'pandas.core.frame.DataFrame'>\n",
      "Int64Index: 82304 entries, 0 to 91303\n",
      "Data columns (total 21 columns):\n",
      " #   Column            Non-Null Count  Dtype         \n",
      "---  ------            --------------  -----         \n",
      " 0   customer_id       82304 non-null  object        \n",
      " 1   event             82304 non-null  int64         \n",
      " 2   time_hours        82304 non-null  int64         \n",
      " 3   offer_id          82304 non-null  object        \n",
      " 4   amount            82304 non-null  float64       \n",
      " 5   reward_x          82304 non-null  int64         \n",
      " 6   reward_y          82304 non-null  float64       \n",
      " 7   difficulty        82304 non-null  float64       \n",
      " 8   duration_hours    82304 non-null  int64         \n",
      " 9   offer_type        82304 non-null  int64         \n",
      " 10  channel_email     82304 non-null  int64         \n",
      " 11  channel_mobile    82304 non-null  int64         \n",
      " 12  channel_social    82304 non-null  int64         \n",
      " 13  channel_web       82304 non-null  int64         \n",
      " 14  became_member_on  82304 non-null  datetime64[ns]\n",
      " 15  gender            82304 non-null  float64       \n",
      " 16  age_group         82304 non-null  category      \n",
      " 17  income_customer   82304 non-null  category      \n",
      " 18  start_year        82304 non-null  float64       \n",
      " 19  start_month       82304 non-null  float64       \n",
      " 20  income_group      82304 non-null  category      \n",
      "dtypes: category(3), datetime64[ns](1), float64(6), int64(9), object(2)\n",
      "memory usage: 12.2+ MB\n"
     ]
    }
   ],
   "source": [
    "master_df.info()"
   ]
  },
  {
   "cell_type": "code",
   "execution_count": 58,
   "id": "bca4f598",
   "metadata": {},
   "outputs": [],
   "source": [
    "# Rename 'reward_x' column to 'reward'\n",
    "master_df.rename(columns ={'reward_x':'reward'}, inplace = True)"
   ]
  },
  {
   "cell_type": "markdown",
   "id": "347cd877",
   "metadata": {},
   "source": [
    "## Model Building and Evaluating the Models"
   ]
  },
  {
   "cell_type": "code",
   "execution_count": 59,
   "id": "ec2108fa",
   "metadata": {},
   "outputs": [],
   "source": [
    "# Split the data into features and target label\n",
    "X = master_df[['event', 'time_hours','offer_id','amount', 'reward', 'difficulty','gender','age_group']]\n",
    "y = np.array(master_df['income_customer'])"
   ]
  },
  {
   "cell_type": "code",
   "execution_count": 60,
   "id": "e335a522",
   "metadata": {},
   "outputs": [],
   "source": [
    "X_train, X_test, y_train, y_test = train_test_split(X, y, test_size = 0.3)"
   ]
  },
  {
   "cell_type": "code",
   "execution_count": 61,
   "id": "1a02d1aa",
   "metadata": {},
   "outputs": [],
   "source": [
    "def model_evaluation(classifier):\n",
    "    cm = confusion_matrix(y_test, classifier.predict(X_test))\n",
    "    counts = [value for value in cm.flatten()]\n",
    "    labels = [f'{v1}' for v1 in counts]\n",
    "    labels = np.asarray(labels).reshape(2,2)\n",
    "    sns.heatmap(cm, annot = labels, cmap = 'Greens', fmt = '')\n",
    "    y_pred = classifier.predict(X_test)\n",
    "    yt_pred = classifier.predict(X_train)\n",
    "    print('The Training Accuracy of the algorithm is ', accuracy_score(y_train, yt_pred))\n",
    "    print('The Testing Accuracy of the algorithm is ', accuracy_score(y_test, y_pred))\n",
    "    print('--------'*8)\n",
    "    print('The Training F1 Score of the algorithm is ', f1_score(y_train, yt_pred))\n",
    "    print('The Testing F1 Score of the algorithm is ', f1_score(y_test, y_pred))\n",
    "    \n",
    "    return "
   ]
  },
  {
   "cell_type": "code",
   "execution_count": 62,
   "id": "ebfc455e",
   "metadata": {
    "scrolled": true
   },
   "outputs": [
    {
     "name": "stdout",
     "output_type": "stream",
     "text": [
      "The Training Accuracy of the algorithm is  0.6263625633548566\n",
      "The Testing Accuracy of the algorithm is  0.6141665316701765\n",
      "----------------------------------------------------------------\n",
      "The Training F1 Score of the algorithm is  0.5829910887253004\n",
      "The Testing F1 Score of the algorithm is  0.5680344593062797\n"
     ]
    },
    {
     "data": {
      "image/png": "[encoded data removed]",
      "text/plain": [
       "<Figure size 432x288 with 2 Axes>"
      ]
     },
     "metadata": {
      "needs_background": "light"
     },
     "output_type": "display_data"
    }
   ],
   "source": [
    "dt = DecisionTreeClassifier(max_depth = 5)\n",
    "dt.fit(X_train, y_train)\n",
    "model_evaluation(dt)"
   ]
  },
  {
   "cell_type": "code",
   "execution_count": 65,
   "id": "3e89bf96",
   "metadata": {
    "scrolled": true
   },
   "outputs": [
    {
     "name": "stdout",
     "output_type": "stream",
     "text": [
      "The Training Accuracy of the algorithm is  0.6282718878011525\n",
      "The Testing Accuracy of the algorithm is  0.6178519358496679\n",
      "----------------------------------------------------------------\n",
      "The Training F1 Score of the algorithm is  0.575786387766421\n",
      "The Testing F1 Score of the algorithm is  0.5632694621864297\n"
     ]
    },
    {
     "data": {
      "image/png": "[encoded data removed]",
      "text/plain": [
       "<Figure size 432x288 with 2 Axes>"
      ]
     },
     "metadata": {
      "needs_background": "light"
     },
     "output_type": "display_data"
    }
   ],
   "source": [
    "rf = RandomForestClassifier(max_depth = 5)\n",
    "rf.fit(X_train, y_train)\n",
    "model_evaluation(rf)"
   ]
  },
  {
   "cell_type": "code",
   "execution_count": 66,
   "id": "ac5da029",
   "metadata": {
    "scrolled": false
   },
   "outputs": [
    {
     "name": "stdout",
     "output_type": "stream",
     "text": [
      "The Training Accuracy of the algorithm is  0.6619107130458932\n",
      "The Testing Accuracy of the algorithm is  0.5619633889518872\n",
      "----------------------------------------------------------------\n",
      "The Training F1 Score of the algorithm is  0.6341335136556595\n",
      "The Testing F1 Score of the algorithm is  0.5228936921041024\n"
     ]
    },
    {
     "data": {
      "image/png": "[encoded data removed]",
      "text/plain": [
       "<Figure size 432x288 with 2 Axes>"
      ]
     },
     "metadata": {
      "needs_background": "light"
     },
     "output_type": "display_data"
    }
   ],
   "source": [
    "knn = KNeighborsClassifier()\n",
    "knn.fit(X_train, y_train)\n",
    "model_evaluation(knn)"
   ]
  },
  {
   "cell_type": "markdown",
   "id": "8d8be1a0",
   "metadata": {},
   "source": [
    "## Conclusion\n",
    "\n",
    "In this project I do several things such as cleaning data, exploratory data, combine data, build models and evaluating models.\n",
    "Cleaning data is quite complicated in this project because there are data columns that must be separated into several data columns. \n",
    "\n",
    "There are a few things I did to make machine learning models such as remove data that has empty values, and change some data types to make it easier to create models. In data exploration, I only focus on things related to customer income.\n",
    "In the section on making machine learning models, by comparing several models such as Decision Tree Classifier, Random Forest Classifier and KNeighbors Classifier. The results of these predictions Decision Tree Classifier has better accuracy and F1 scores than Random Forest Classifier and KNeighbors Classifier. \n",
    "\n",
    "Decision Tree Classifier has training and testing accuracy: 0.622 and 0.623 and training and testing F1 score: 0.593 and 0.597.\n",
    "However, this model does not yet have an optimal accuracy and F1 score. We should do improvement or try another model that has accuracy and the F1 score is higher than this model.\n",
    "\n",
    "## Improvements\n",
    "For the improvement we can try XGBoost, Logistic Regression, LightGBM or another models. \n",
    "We have to explore the data more deeply to get good insights and do better data cleaning and preparation that can help us to make optimal machine learning models."
   ]
  }
 ],
 "metadata": {
  "kernelspec": {
   "display_name": "Python 3 (ipykernel)",
   "language": "python",
   "name": "python3"
  },
  "language_info": {
   "codemirror_mode": {
    "name": "ipython",
    "version": 3
   },
   "file_extension": ".py",
   "mimetype": "text/x-python",
   "name": "python",
   "nbconvert_exporter": "python",
   "pygments_lexer": "ipython3",
   "version": "3.10.2"
  }
 },
 "nbformat": 4,
 "nbformat_minor": 5
}
